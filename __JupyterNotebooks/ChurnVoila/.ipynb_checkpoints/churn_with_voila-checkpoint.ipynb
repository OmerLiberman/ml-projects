{
 "cells": [
  {
   "cell_type": "markdown",
   "metadata": {
    "hide_input": true
   },
   "source": [
    "# **Churn prediction scoring with Jupyter Voilà  and Lime**\n",
    "---"
   ]
  },
  {
   "cell_type": "markdown",
   "metadata": {},
   "source": [
    "## **Churn Prediction**\n",
    "\n",
    "Customer attrition, also known as customer churn, customer turnover, or customer defection, is the loss of clients or customers.\n",
    "Banks, telephone service companies, Internet service providers, pay TV companies, insurance firms, and alarm monitoring services, often use **customer prediction** analysis and customer prediction rates as one of their key business metrics (along with cash flow, EBITDA, etc.) because the cost of retaining an existing customer is far less than acquiring a new one."
   ]
  },
  {
   "cell_type": "markdown",
   "metadata": {},
   "source": [
    "## **Dataset**\n",
    "\n",
    "In this example, we are using banking churn prediction dataset.\n",
    "\n",
    "Link - https://www.kaggle.com/nasirislamsujan/bank-customer-churn-prediction/data"
   ]
  },
  {
   "cell_type": "markdown",
   "metadata": {},
   "source": [
    "## **How to use**\n",
    "- The dataset is already set, and the preprocessing code also.\n",
    "- The user needs to pick the model from the list and train it on the processed data.\n",
    "- Important: **training might take few seconds**\n",
    "- Then the user gets back the metrics (loss and accuracy) of the model.\n",
    "- After training the model, the user can use the sliders and buttons to insert single user data and make predictions by himself.\n",
    "- For each prediction, if the user is interested, he can recive an image which explains the prediction of the model."
   ]
  },
  {
   "cell_type": "markdown",
   "metadata": {},
   "source": [
    "## **Code**"
   ]
  },
  {
   "cell_type": "code",
   "execution_count": 83,
   "metadata": {},
   "outputs": [],
   "source": [
    "import warnings\n",
    "warnings.filterwarnings(\"ignore\")\n",
    "warnings.filterwarnings(\"ignore\", category=DeprecationWarning)"
   ]
  },
  {
   "cell_type": "markdown",
   "metadata": {},
   "source": [
    "### **Dataset**"
   ]
  },
  {
   "cell_type": "code",
   "execution_count": 84,
   "metadata": {},
   "outputs": [],
   "source": [
    "import pandas as pd\n",
    "from sklearn import preprocessing\n",
    "from sklearn.model_selection import train_test_split"
   ]
  },
  {
   "cell_type": "code",
   "execution_count": 85,
   "metadata": {},
   "outputs": [],
   "source": [
    "\"\"\"\n",
    "Setting the path to the csv file.\n",
    "\"\"\"\n",
    "# Path in cnvrg datasets.\n",
    "path = '/data/churn/ds.csv'"
   ]
  },
  {
   "cell_type": "code",
   "execution_count": 86,
   "metadata": {
    "scrolled": true
   },
   "outputs": [
    {
     "data": {
      "text/html": [
       "<div>\n",
       "<style scoped>\n",
       "    .dataframe tbody tr th:only-of-type {\n",
       "        vertical-align: middle;\n",
       "    }\n",
       "\n",
       "    .dataframe tbody tr th {\n",
       "        vertical-align: top;\n",
       "    }\n",
       "\n",
       "    .dataframe thead th {\n",
       "        text-align: right;\n",
       "    }\n",
       "</style>\n",
       "<table border=\"1\" class=\"dataframe\">\n",
       "  <thead>\n",
       "    <tr style=\"text-align: right;\">\n",
       "      <th></th>\n",
       "      <th>CustomerId</th>\n",
       "      <th>Surname</th>\n",
       "      <th>CreditScore</th>\n",
       "      <th>Geography</th>\n",
       "      <th>Gender</th>\n",
       "      <th>Age</th>\n",
       "      <th>Tenure</th>\n",
       "      <th>Balance</th>\n",
       "      <th>NumOfProducts</th>\n",
       "      <th>HasCrCard</th>\n",
       "      <th>IsActiveMember</th>\n",
       "      <th>EstimatedSalary</th>\n",
       "      <th>Exited</th>\n",
       "    </tr>\n",
       "    <tr>\n",
       "      <th>RowNumber</th>\n",
       "      <th></th>\n",
       "      <th></th>\n",
       "      <th></th>\n",
       "      <th></th>\n",
       "      <th></th>\n",
       "      <th></th>\n",
       "      <th></th>\n",
       "      <th></th>\n",
       "      <th></th>\n",
       "      <th></th>\n",
       "      <th></th>\n",
       "      <th></th>\n",
       "      <th></th>\n",
       "    </tr>\n",
       "  </thead>\n",
       "  <tbody>\n",
       "    <tr>\n",
       "      <th>3823</th>\n",
       "      <td>15626985</td>\n",
       "      <td>Yefremova</td>\n",
       "      <td>850</td>\n",
       "      <td>France</td>\n",
       "      <td>Female</td>\n",
       "      <td>39</td>\n",
       "      <td>0</td>\n",
       "      <td>104386.53</td>\n",
       "      <td>1</td>\n",
       "      <td>1</td>\n",
       "      <td>0</td>\n",
       "      <td>105886.77</td>\n",
       "      <td>0</td>\n",
       "    </tr>\n",
       "    <tr>\n",
       "      <th>9066</th>\n",
       "      <td>15693637</td>\n",
       "      <td>Ochoa</td>\n",
       "      <td>556</td>\n",
       "      <td>France</td>\n",
       "      <td>Female</td>\n",
       "      <td>30</td>\n",
       "      <td>7</td>\n",
       "      <td>0.00</td>\n",
       "      <td>2</td>\n",
       "      <td>1</td>\n",
       "      <td>1</td>\n",
       "      <td>186648.19</td>\n",
       "      <td>0</td>\n",
       "    </tr>\n",
       "    <tr>\n",
       "      <th>8152</th>\n",
       "      <td>15750970</td>\n",
       "      <td>Davidson</td>\n",
       "      <td>500</td>\n",
       "      <td>Spain</td>\n",
       "      <td>Male</td>\n",
       "      <td>40</td>\n",
       "      <td>1</td>\n",
       "      <td>99004.24</td>\n",
       "      <td>1</td>\n",
       "      <td>1</td>\n",
       "      <td>1</td>\n",
       "      <td>152845.99</td>\n",
       "      <td>0</td>\n",
       "    </tr>\n",
       "    <tr>\n",
       "      <th>5644</th>\n",
       "      <td>15782096</td>\n",
       "      <td>Volkova</td>\n",
       "      <td>616</td>\n",
       "      <td>Spain</td>\n",
       "      <td>Female</td>\n",
       "      <td>36</td>\n",
       "      <td>6</td>\n",
       "      <td>0.00</td>\n",
       "      <td>1</td>\n",
       "      <td>1</td>\n",
       "      <td>1</td>\n",
       "      <td>12916.32</td>\n",
       "      <td>1</td>\n",
       "    </tr>\n",
       "    <tr>\n",
       "      <th>3619</th>\n",
       "      <td>15750867</td>\n",
       "      <td>Nucci</td>\n",
       "      <td>489</td>\n",
       "      <td>Germany</td>\n",
       "      <td>Female</td>\n",
       "      <td>46</td>\n",
       "      <td>8</td>\n",
       "      <td>92060.06</td>\n",
       "      <td>1</td>\n",
       "      <td>1</td>\n",
       "      <td>0</td>\n",
       "      <td>147222.95</td>\n",
       "      <td>1</td>\n",
       "    </tr>\n",
       "    <tr>\n",
       "      <th>3939</th>\n",
       "      <td>15723717</td>\n",
       "      <td>Heath</td>\n",
       "      <td>483</td>\n",
       "      <td>Germany</td>\n",
       "      <td>Male</td>\n",
       "      <td>41</td>\n",
       "      <td>1</td>\n",
       "      <td>118334.44</td>\n",
       "      <td>1</td>\n",
       "      <td>0</td>\n",
       "      <td>0</td>\n",
       "      <td>163147.99</td>\n",
       "      <td>1</td>\n",
       "    </tr>\n",
       "  </tbody>\n",
       "</table>\n",
       "</div>"
      ],
      "text/plain": [
       "           CustomerId    Surname  CreditScore Geography  Gender  Age  Tenure  \\\n",
       "RowNumber                                                                      \n",
       "3823         15626985  Yefremova          850    France  Female   39       0   \n",
       "9066         15693637      Ochoa          556    France  Female   30       7   \n",
       "8152         15750970   Davidson          500     Spain    Male   40       1   \n",
       "5644         15782096    Volkova          616     Spain  Female   36       6   \n",
       "3619         15750867      Nucci          489   Germany  Female   46       8   \n",
       "3939         15723717      Heath          483   Germany    Male   41       1   \n",
       "\n",
       "             Balance  NumOfProducts  HasCrCard  IsActiveMember  \\\n",
       "RowNumber                                                        \n",
       "3823       104386.53              1          1               0   \n",
       "9066            0.00              2          1               1   \n",
       "8152        99004.24              1          1               1   \n",
       "5644            0.00              1          1               1   \n",
       "3619        92060.06              1          1               0   \n",
       "3939       118334.44              1          0               0   \n",
       "\n",
       "           EstimatedSalary  Exited  \n",
       "RowNumber                           \n",
       "3823             105886.77       0  \n",
       "9066             186648.19       0  \n",
       "8152             152845.99       0  \n",
       "5644              12916.32       1  \n",
       "3619             147222.95       1  \n",
       "3939             163147.99       1  "
      ]
     },
     "execution_count": 86,
     "metadata": {},
     "output_type": "execute_result"
    }
   ],
   "source": [
    "\"\"\"\n",
    "Present sample of the dataset.\n",
    "\"\"\"\n",
    "\n",
    "df = pd.read_csv(path, index_col='RowNumber')\n",
    "df = df.sample(frac=1).reset_index()\n",
    "\n",
    "groupby = df.groupby('Exited')\n",
    "all_ones = groupby.get_group(1).set_index('RowNumber')\n",
    "all_zeros = groupby.get_group(0).set_index('RowNumber')\n",
    "\n",
    "sample_of_zeros = all_zeros.head(3)\n",
    "sample_of_ones = all_ones.head(3)\n",
    "\n",
    "sample = sample_of_zeros\n",
    "sample = sample.append(sample_of_ones)\n",
    "\n",
    "sample"
   ]
  },
  {
   "cell_type": "code",
   "execution_count": 87,
   "metadata": {},
   "outputs": [],
   "source": [
    "\"\"\"\n",
    "Preprocessing\n",
    "-------------\n",
    "1) Decided what to do with each feature: one-hot-encoding, dropping or scaling.\n",
    "2) Splitting to features and target column.\n",
    "3) Splitting to train and test sets\n",
    "\"\"\"\n",
    "\n",
    "# Features should be \"dummied\".\n",
    "features_to_dummy = ['Geography', 'Gender']\n",
    "\n",
    "# Features should be dropped.\n",
    "features_to_drop = ['RowNumber', 'Surname', 'CustomerId', 'IsActiveMember']\n",
    "\n",
    "# Features to scale.\n",
    "features_to_scale = ['CreditScore', 'Age', 'Balance', 'EstimatedSalary']"
   ]
  },
  {
   "cell_type": "code",
   "execution_count": 88,
   "metadata": {},
   "outputs": [],
   "source": [
    "# Drop redundant columns\n",
    "df = df.drop(labels=features_to_drop, axis=1)\n",
    "\n",
    "# Convert the features Geography and Gender to categorical features.\n",
    "df = pd.get_dummies(df, columns=features_to_dummy, dtype=float)\n",
    "\n",
    "# Scaling.\n",
    "max_values_dict = dict()\n",
    "for col in features_to_scale:\n",
    "    max_in_col = max(df[col])\n",
    "    max_values_dict[col] = max_in_col\n",
    "    df[col] /= max_in_col"
   ]
  },
  {
   "cell_type": "code",
   "execution_count": 89,
   "metadata": {},
   "outputs": [],
   "source": [
    "# Set the X, y.\n",
    "target_col = 'Exited'\n",
    "X, y = df.drop(labels=target_col, axis=1), df[target_col]\n",
    "\n",
    "df = X\n",
    "df[target_col] = y\n",
    "\n",
    "# Spliting to train & test sets.\n",
    "feature_names = df.columns\n",
    "test_size = 0.2\n",
    "train, test = train_test_split(df, test_size=test_size)\n",
    "\n",
    "# Setting X and y for training.\n",
    "X_train, y_train = train.iloc[:, :-1], train.iloc[:, -1]\n",
    "X_test, y_test = test.iloc[:, :-1], test.iloc[:, -1]"
   ]
  },
  {
   "cell_type": "markdown",
   "metadata": {},
   "source": [
    "### **Training**"
   ]
  },
  {
   "cell_type": "code",
   "execution_count": 90,
   "metadata": {},
   "outputs": [],
   "source": [
    "import pickle\n",
    "from ipywidgets import widgets, ButtonStyle\n",
    "from sklearn.metrics import zero_one_loss, accuracy_score\n",
    "\n",
    "from sklearn.svm import SVC\n",
    "from sklearn.naive_bayes import GaussianNB\n",
    "from sklearn.tree import DecisionTreeClassifier\n",
    "from sklearn.neighbors import KNeighborsClassifier"
   ]
  },
  {
   "cell_type": "code",
   "execution_count": 91,
   "metadata": {},
   "outputs": [],
   "source": [
    "\"\"\"\n",
    "Define the widgets\n",
    "------------------\n",
    "In order to let the user to predict values as he wishes, \n",
    "We create an interactive UI which includes buttons and widgets.\n",
    "Thats the way non-programmer/non-data-scientist can use our models to create predictions.\n",
    "\"\"\"\n",
    "\n",
    "def _select_model(model_name):\n",
    "    \"\"\"\n",
    "    This method recevies the selected model name from the widget bellow and,\n",
    "    returns python object of the selected model.\n",
    "    \"\"\"\n",
    "    if model_name == '5-nearest-neighbors':\n",
    "        return KNeighborsClassifier(n_neighbors=5)\n",
    "    \n",
    "    elif model_name == 'SVM':\n",
    "        return SVC(gamma='auto', probability=True)\n",
    "    \n",
    "    elif model_name == 'GaussianNaiveBayes':\n",
    "        return GaussianNB()\n",
    "    \n",
    "    elif model_name == 'DecisionTree':\n",
    "        return DecisionTreeClassifier()\n",
    "    \n",
    "    else:\n",
    "        raise Exception('Error in model selection')"
   ]
  },
  {
   "cell_type": "code",
   "execution_count": 92,
   "metadata": {},
   "outputs": [
    {
     "data": {
      "application/vnd.jupyter.widget-view+json": {
       "model_id": "15d992c18d3948e0bd85e59508e4ed47",
       "version_major": 2,
       "version_minor": 0
      },
      "text/plain": [
       "Select(description='Model: ', options=('5-nearest-neighbors', 'SVM', 'GaussianNaiveBayes', 'DecisionTree'), ro…"
      ]
     },
     "metadata": {},
     "output_type": "display_data"
    }
   ],
   "source": [
    "# Models selection widget.\n",
    "model_wid = widgets.Select(\n",
    "                            options=['5-nearest-neighbors', 'SVM', 'GaussianNaiveBayes', 'DecisionTree'],\n",
    "                            value='5-nearest-neighbors',\n",
    "                            rows=4,\n",
    "                            description='Model: ',\n",
    "                            disabled=False)\n",
    "\n",
    "model_wid"
   ]
  },
  {
   "cell_type": "code",
   "execution_count": 93,
   "metadata": {},
   "outputs": [
    {
     "data": {
      "application/vnd.jupyter.widget-view+json": {
       "model_id": "df940c41a73f41f9bcc00b9b3e01d403",
       "version_major": 2,
       "version_minor": 0
      },
      "text/plain": [
       "IntText(value=0, description='Accuracy: ')"
      ]
     },
     "metadata": {},
     "output_type": "display_data"
    }
   ],
   "source": [
    "# Accuracy of the selected model (presents the accuracy after training).\n",
    "acc_wid = widgets.IntText(placeholder='Accuracy',\n",
    "                    description='Accuracy: ',\n",
    "                    disabled=False)\n",
    "\n",
    "acc_wid"
   ]
  },
  {
   "cell_type": "code",
   "execution_count": 94,
   "metadata": {},
   "outputs": [
    {
     "data": {
      "application/vnd.jupyter.widget-view+json": {
       "model_id": "06558a90cf374fcc8093041f6ae59213",
       "version_major": 2,
       "version_minor": 0
      },
      "text/plain": [
       "IntText(value=0, description='Loss: ')"
      ]
     },
     "metadata": {},
     "output_type": "display_data"
    }
   ],
   "source": [
    "# Loss of the selected model (presents the loss after training).\n",
    "loss_wid = widgets.IntText(placeholder='Loss',\n",
    "                    description='Loss: ',\n",
    "                    disabled=False)\n",
    "\n",
    "loss_wid"
   ]
  },
  {
   "cell_type": "code",
   "execution_count": 95,
   "metadata": {},
   "outputs": [],
   "source": [
    "def _train_model(_=None):\n",
    "    \"\"\"\n",
    "    Performs training of the selected model over the given X_train, y_train.\n",
    "    It also updates the right widgets.\n",
    "    \"\"\"\n",
    "    # Initiation of the classifier.\n",
    "    model = _select_model(model_wid.value)\n",
    "    \n",
    "    history = model.fit(X_train, y_train)\n",
    "    \n",
    "    X_test, y_test = test.iloc[:, :-1], test.iloc[:, -1]\n",
    "\n",
    "    prediction = model.predict(X_test)\n",
    "\n",
    "    # Getting loss and accuracy.\n",
    "    ac = round(accuracy_score(y_test, prediction), 2) * 100\n",
    "    ls = round(zero_one_loss(y_test, prediction), 2) * 100\n",
    "    \n",
    "    acc_wid.value, loss_wid.value = ac, ls\n",
    "    \n",
    "    # Saving the trained model.\n",
    "    pickle.dump(model, open(\"trained_models/{}.sav\".format(model_wid.value), 'wb'))\n",
    "    \n",
    "    train_status.value = \"{} model is trained!\".format(model_wid.value)"
   ]
  },
  {
   "cell_type": "code",
   "execution_count": 96,
   "metadata": {},
   "outputs": [
    {
     "data": {
      "application/vnd.jupyter.widget-view+json": {
       "model_id": "4b46e7ae293e4d73824d0cafda1cc7ce",
       "version_major": 2,
       "version_minor": 0
      },
      "text/plain": [
       "HBox(children=(Button(description='Train Model', style=ButtonStyle()), Text(value='', disabled=True, placehold…"
      ]
     },
     "metadata": {},
     "output_type": "display_data"
    }
   ],
   "source": [
    "# Train button and another widgets which notify when training is over.\n",
    "train_button = widgets.Button(description='Train Model')\n",
    "train_button.on_click(_train_model)\n",
    "\n",
    "train_status = widgets.Text(placeholder='Training Status',\n",
    "                            disabled=True)\n",
    "\n",
    "vb_train_and_status = widgets.HBox([train_button, train_status])\n",
    "vb_train_and_status"
   ]
  },
  {
   "cell_type": "markdown",
   "metadata": {},
   "source": [
    "## **Predict with Voila**\n",
    "\n",
    "Now, after training the model over the dataset, we let the users use the app to perform predictions based on the trained model.\n",
    "\n",
    "For that purpose, we have the following slides and buttons. \n",
    "The user enters and selects the values and then press Predict."
   ]
  },
  {
   "cell_type": "markdown",
   "metadata": {},
   "source": [
    "### **Set Values**"
   ]
  },
  {
   "cell_type": "code",
   "execution_count": 97,
   "metadata": {},
   "outputs": [],
   "source": [
    "import numpy as np\n",
    "from IPython.display import display\n",
    "from ipywidgets import widgets, ButtonStyle, VBox, HBox"
   ]
  },
  {
   "cell_type": "code",
   "execution_count": 98,
   "metadata": {},
   "outputs": [
    {
     "data": {
      "application/vnd.jupyter.widget-view+json": {
       "model_id": "d14db01276224de085d37a930fdb2084",
       "version_major": 2,
       "version_minor": 0
      },
      "text/plain": [
       "Text(value='', description='CustomerID: ', placeholder='CustomerID')"
      ]
     },
     "metadata": {},
     "output_type": "display_data"
    }
   ],
   "source": [
    "# CustomerID (ignored)\n",
    "customerId = widgets.Text(placeholder='CustomerID',\n",
    "                    description='CustomerID: ',\n",
    "                    disabled=False)\n",
    "\n",
    "customerId"
   ]
  },
  {
   "cell_type": "code",
   "execution_count": 99,
   "metadata": {},
   "outputs": [
    {
     "data": {
      "application/vnd.jupyter.widget-view+json": {
       "model_id": "9f10a48c10884c93903413648a355615",
       "version_major": 2,
       "version_minor": 0
      },
      "text/plain": [
       "Text(value='', description='Surname: ', placeholder='Surname')"
      ]
     },
     "metadata": {},
     "output_type": "display_data"
    }
   ],
   "source": [
    "# Surname (ignored)\n",
    "Surname = widgets.Text(placeholder='Surname',\n",
    "                    description='Surname: ',\n",
    "                    disabled=False)\n",
    "\n",
    "Surname"
   ]
  },
  {
   "cell_type": "code",
   "execution_count": 100,
   "metadata": {},
   "outputs": [
    {
     "data": {
      "application/vnd.jupyter.widget-view+json": {
       "model_id": "86b816d8914e4f7fb2af294da23a7664",
       "version_major": 2,
       "version_minor": 0
      },
      "text/plain": [
       "IntSlider(value=500, description='Credit Score:', max=1000, style=SliderStyle(handle_color='blue'))"
      ]
     },
     "metadata": {},
     "output_type": "display_data"
    }
   ],
   "source": [
    "# CreditScore\n",
    "credit_score = widgets.IntSlider(\n",
    "    value=500,\n",
    "    min=0,\n",
    "    max=1000,\n",
    "    description='Credit Score:',\n",
    ")\n",
    "credit_score.style.handle_color = 'blue'\n",
    "\n",
    "credit_score"
   ]
  },
  {
   "cell_type": "code",
   "execution_count": 101,
   "metadata": {},
   "outputs": [
    {
     "data": {
      "application/vnd.jupyter.widget-view+json": {
       "model_id": "9eb45c9ba3634551a1638a87c66509b8",
       "version_major": 2,
       "version_minor": 0
      },
      "text/plain": [
       "IntSlider(value=40, description='Age:', max=120, style=SliderStyle(handle_color='blue'))"
      ]
     },
     "metadata": {},
     "output_type": "display_data"
    }
   ],
   "source": [
    "# Age\n",
    "age = widgets.IntSlider(\n",
    "    value=40,\n",
    "    min=0,\n",
    "    max=120,\n",
    "    description='Age:',\n",
    ")\n",
    "age.style.handle_color = 'blue'\n",
    "\n",
    "age"
   ]
  },
  {
   "cell_type": "code",
   "execution_count": 102,
   "metadata": {},
   "outputs": [
    {
     "data": {
      "application/vnd.jupyter.widget-view+json": {
       "model_id": "e99fa44532c6422e80c7859b60b25d5d",
       "version_major": 2,
       "version_minor": 0
      },
      "text/plain": [
       "IntSlider(value=3, description='Tenure:', max=10, style=SliderStyle(handle_color='blue'))"
      ]
     },
     "metadata": {},
     "output_type": "display_data"
    }
   ],
   "source": [
    "# Tenure\n",
    "tenure = widgets.IntSlider(\n",
    "    value=3,\n",
    "    min=0,\n",
    "    max=10,\n",
    "    step=1,\n",
    "    description='Tenure:',\n",
    ")\n",
    "tenure.style.handle_color = 'blue'\n",
    "\n",
    "tenure"
   ]
  },
  {
   "cell_type": "code",
   "execution_count": 103,
   "metadata": {},
   "outputs": [
    {
     "data": {
      "application/vnd.jupyter.widget-view+json": {
       "model_id": "4772f457bfc54f618db726df1b14c04c",
       "version_major": 2,
       "version_minor": 0
      },
      "text/plain": [
       "FloatSlider(value=50000.0, description='Balance:', max=300000.0, style=SliderStyle(handle_color='blue'))"
      ]
     },
     "metadata": {},
     "output_type": "display_data"
    }
   ],
   "source": [
    "# Balance\n",
    "balance = widgets.FloatSlider(\n",
    "    value=50000,\n",
    "    min=0,\n",
    "    max=300000.0,\n",
    "    step=0.1,\n",
    "    description='Balance:',\n",
    ")\n",
    "balance.style.handle_color = 'blue'\n",
    "\n",
    "balance"
   ]
  },
  {
   "cell_type": "code",
   "execution_count": 104,
   "metadata": {},
   "outputs": [
    {
     "data": {
      "application/vnd.jupyter.widget-view+json": {
       "model_id": "7feea59766794c5599f80a7294dd2097",
       "version_major": 2,
       "version_minor": 0
      },
      "text/plain": [
       "IntSlider(value=3, description='NumOfProducts:', max=5, min=1, style=SliderStyle(handle_color='blue'))"
      ]
     },
     "metadata": {},
     "output_type": "display_data"
    }
   ],
   "source": [
    "# NumOfProducts\n",
    "num_of_products = widgets.IntSlider(\n",
    "    value=3,\n",
    "    min=1,\n",
    "    max=5,\n",
    "    step=1,\n",
    "    description='NumOfProducts:',\n",
    ")\n",
    "num_of_products.style.handle_color = 'blue'\n",
    "\n",
    "num_of_products"
   ]
  },
  {
   "cell_type": "code",
   "execution_count": 105,
   "metadata": {},
   "outputs": [
    {
     "data": {
      "application/vnd.jupyter.widget-view+json": {
       "model_id": "5046d65c0c664bf2948dac3d7b6d3277",
       "version_major": 2,
       "version_minor": 0
      },
      "text/plain": [
       "FloatSlider(value=50000.0, description='EstimatedSalary:', max=300000.0, style=SliderStyle(handle_color='blue'…"
      ]
     },
     "metadata": {},
     "output_type": "display_data"
    }
   ],
   "source": [
    "# EstimatedSalary\n",
    "estimated_salary = widgets.FloatSlider(\n",
    "    value=50000,\n",
    "    min=0,\n",
    "    max=300000.0,\n",
    "    step=0.1,\n",
    "    description='EstimatedSalary:',\n",
    ")\n",
    "estimated_salary.style.handle_color = 'blue'\n",
    "\n",
    "estimated_salary"
   ]
  },
  {
   "cell_type": "code",
   "execution_count": 106,
   "metadata": {},
   "outputs": [
    {
     "data": {
      "application/vnd.jupyter.widget-view+json": {
       "model_id": "8a5ae882b8124e409ad80079cee5d022",
       "version_major": 2,
       "version_minor": 0
      },
      "text/plain": [
       "Dropdown(description='Geography:', index=1, options=('France', 'Germany', 'Spain'), value='Germany')"
      ]
     },
     "metadata": {},
     "output_type": "display_data"
    }
   ],
   "source": [
    "# Geography\n",
    "geography = widgets.Dropdown(\n",
    "    options=['France', 'Germany', 'Spain'],\n",
    "    value='Germany',\n",
    "    description='Geography:',\n",
    ")\n",
    "\n",
    "geography"
   ]
  },
  {
   "cell_type": "code",
   "execution_count": 107,
   "metadata": {},
   "outputs": [
    {
     "data": {
      "application/vnd.jupyter.widget-view+json": {
       "model_id": "28e6386b6b874bab81a60e702117eb76",
       "version_major": 2,
       "version_minor": 0
      },
      "text/plain": [
       "ToggleButtons(description='Has Card:', options=('True', 'False'), value='True')"
      ]
     },
     "metadata": {},
     "output_type": "display_data"
    }
   ],
   "source": [
    "# HasCard\n",
    "has_cr_card = widgets.ToggleButtons(\n",
    "    options=['True', 'False'],\n",
    "    description='Has Card:',\n",
    ")\n",
    "\n",
    "has_cr_card"
   ]
  },
  {
   "cell_type": "code",
   "execution_count": 108,
   "metadata": {},
   "outputs": [
    {
     "data": {
      "application/vnd.jupyter.widget-view+json": {
       "model_id": "83964f300f0c49deaad4d7acfa42c099",
       "version_major": 2,
       "version_minor": 0
      },
      "text/plain": [
       "ToggleButtons(description='Gender:', options=('Female', 'Male'), value='Female')"
      ]
     },
     "metadata": {},
     "output_type": "display_data"
    }
   ],
   "source": [
    "# Gender\n",
    "gender = widgets.ToggleButtons(\n",
    "    options=['Female', 'Male'],\n",
    "    description='Gender:',\n",
    ")\n",
    "credit_score.style.handle_color = 'blue'\n",
    "\n",
    "gender"
   ]
  },
  {
   "cell_type": "code",
   "execution_count": 109,
   "metadata": {},
   "outputs": [],
   "source": [
    "# Process the results\n",
    "def process_values(credit_score=credit_score, \n",
    "                   age=age, \n",
    "                   tenure=tenure, \n",
    "                   balance=balance, \n",
    "                   num_of_products=num_of_products,\n",
    "                   has_cr_card=has_cr_card, \n",
    "                   estimated_salary=estimated_salary, \n",
    "                   geography=geography, \n",
    "                   gender=gender):\n",
    "    \n",
    "    CreditScore = credit_score.value / max_values_dict['CreditScore']\n",
    "    Age = age.value / max_values_dict['Age']\n",
    "    Tenure = tenure.value\n",
    "    Balance = balance.value / max_values_dict['Balance']\n",
    "    NumOfProducts = num_of_products.value\n",
    "    HasCrCard = 0 if has_cr_card.value == 'False' else 1\n",
    "    EstimatedSalary = estimated_salary.value / max_values_dict['EstimatedSalary']\n",
    "    Geography_Spain = 1 if geography.value == 'Spain' else 0\n",
    "    Geography_Germany = 1 if geography.value == 'Germany' else 0\n",
    "    Geography_France = 1 if geography.value == 'France' else 0\n",
    "    Gender_Male = 1 if gender.value == 'Male' else 0\n",
    "    Gender_Female = 1 if gender.value == 'Female' else 0\n",
    "\n",
    "    to_predict = [CreditScore, Age, Tenure, Balance, NumOfProducts, HasCrCard, EstimatedSalary, \n",
    "                  Geography_France, Geography_Germany, Geography_Spain, Gender_Female, Gender_Male]\n",
    "\n",
    "    to_predict = np.array(to_predict).reshape(1, -1)\n",
    "    \n",
    "    return to_predict"
   ]
  },
  {
   "cell_type": "markdown",
   "metadata": {},
   "source": [
    "### **Prediction and Explanation**\n",
    "\n",
    "In order to provide the best experience for the user, we also provide an exaplanation for each prediction.\n",
    "\n",
    "The explanation shows what values pushes the model to choose (or not to choose) '1' (churn). "
   ]
  },
  {
   "cell_type": "code",
   "execution_count": 110,
   "metadata": {},
   "outputs": [],
   "source": [
    "prediction_wid = widgets.Text(placeholder='Prediction',\n",
    "                    description='Prediction: ',\n",
    "                    disabled=False)\n",
    "\n",
    "probability_wid = widgets.FloatText(placeholder='Probability',\n",
    "                    description='Prboability: ',\n",
    "                    disabled=False)\n",
    "\n",
    "vb_pred_and_prob = VBox([prediction_wid, probability_wid])"
   ]
  },
  {
   "cell_type": "code",
   "execution_count": 111,
   "metadata": {
    "scrolled": true
   },
   "outputs": [],
   "source": [
    "# Loading the trained model.\n",
    "try:\n",
    "    model = pickle.load(open(\"trained_models/{}.sav\".format(model_wid.value), 'rb'))\n",
    "except Exception:\n",
    "    model = _train_model(model_wid.value)\n",
    "    \n",
    "def show_prediction(_=None):\n",
    "    to_predict = process_values()\n",
    "    prob = model.predict_proba(to_predict)[0]\n",
    "    churn_prob, not_churn_prob = prob[0], prob[1]\n",
    "    prediction = \"Not Churn\" if not_churn_prob > churn_prob else \"Churn\"\n",
    "\n",
    "    prediction_wid.value = prediction\n",
    "    probability_wid.value = max(churn_prob, not_churn_prob)\n",
    "    return np.array(to_predict).reshape(-1,)"
   ]
  },
  {
   "cell_type": "code",
   "execution_count": 112,
   "metadata": {},
   "outputs": [],
   "source": [
    "import lime\n",
    "import ipywidgets as widgets\n",
    "import matplotlib.pyplot as plt\n",
    "from IPython.display import clear_output\n",
    "from lime.lime_tabular import LimeTabularExplainer  # <--- Since we're using DataFrames"
   ]
  },
  {
   "cell_type": "code",
   "execution_count": 113,
   "metadata": {},
   "outputs": [],
   "source": [
    "def show_explanation(_=None):\n",
    "    explainer = LimeTabularExplainer(X_train.values, \n",
    "                                       feature_names=feature_names, \n",
    "                                       class_names=[0,1])\n",
    "    exp = explainer.explain_instance(data_row=to_predict, \n",
    "                                        predict_fn=model.predict_proba,\n",
    "                                        num_features=10)\n",
    "    fig = exp.as_pyplot_figure(label=1).savefig(\"plots/1.png\", bbox_inches=\"tight\")\n",
    "    file1 = open(\"plots/1.png\", \"rb\")\n",
    "    image1 = file1.read()\n",
    "    exp_wid1.value = image1"
   ]
  },
  {
   "cell_type": "code",
   "execution_count": 114,
   "metadata": {},
   "outputs": [],
   "source": [
    "file = open(\"plots/white.png\", \"rb\")\n",
    "image = file.read()\n",
    "exp_wid1 = widgets.Image(\n",
    "    value=image,\n",
    "    format='png',\n",
    "    width=350,\n",
    "    height=200,\n",
    ")\n",
    "\n",
    "hb_pred_prob_exp = HBox([vb_pred_and_prob, exp_wid1])"
   ]
  },
  {
   "cell_type": "code",
   "execution_count": 115,
   "metadata": {},
   "outputs": [
    {
     "data": {
      "application/vnd.jupyter.widget-view+json": {
       "model_id": "1686f7a040954b2694a00c5977d95637",
       "version_major": 2,
       "version_minor": 0
      },
      "text/plain": [
       "HBox(children=(Button(description='Predict', style=ButtonStyle()), HBox(children=(VBox(children=(Text(value='N…"
      ]
     },
     "metadata": {},
     "output_type": "display_data"
    }
   ],
   "source": [
    "predBtn = widgets.Button(description='Predict')\n",
    "\n",
    "predBtn.on_click(show_prediction)\n",
    "predBtn.on_click(show_explanation)\n",
    "to_predict = show_prediction()\n",
    "\n",
    "final_vbox = HBox([predBtn, hb_pred_prob_exp])\n",
    "\n",
    "final_vbox"
   ]
  },
  {
   "cell_type": "code",
   "execution_count": null,
   "metadata": {},
   "outputs": [],
   "source": []
  }
 ],
 "metadata": {
  "celltoolbar": "Edit Metadata",
  "hide_input": false,
  "kernelspec": {
   "display_name": "Python 3",
   "language": "python",
   "name": "python3"
  },
  "language_info": {
   "codemirror_mode": {
    "name": "ipython",
    "version": 3
   },
   "file_extension": ".py",
   "mimetype": "text/x-python",
   "name": "python",
   "nbconvert_exporter": "python",
   "pygments_lexer": "ipython3",
   "version": "3.7.4"
  },
  "toc": {
   "base_numbering": 1,
   "nav_menu": {},
   "number_sections": true,
   "sideBar": true,
   "skip_h1_title": false,
   "title_cell": "Table of Contents",
   "title_sidebar": "Contents",
   "toc_cell": false,
   "toc_position": {},
   "toc_section_display": true,
   "toc_window_display": false
  }
 },
 "nbformat": 4,
 "nbformat_minor": 4
}
