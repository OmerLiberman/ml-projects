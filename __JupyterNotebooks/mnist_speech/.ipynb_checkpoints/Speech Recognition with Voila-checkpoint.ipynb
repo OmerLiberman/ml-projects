{
 "cells": [
  {
   "cell_type": "markdown",
   "metadata": {},
   "source": [
    "# **Speech Classification with Voila**"
   ]
  },
  {
   "cell_type": "markdown",
   "metadata": {},
   "source": [
    "## **About speech classification**\n",
    "\n",
    "Speech classification is a interdisciplinary subfield of computational linguistics that develops methodologies and technologies that enables the recognition and translation of spoken language into text by computers."
   ]
  },
  {
   "cell_type": "markdown",
   "metadata": {},
   "source": [
    "## **The model**\n",
    "\n",
    "The technique which we are going to use here is to convert each wav file to a spectrogram and then to apply image classification techniques. In this example, we are going to use convolutional neural network model with 3 layers. "
   ]
  },
  {
   "cell_type": "markdown",
   "metadata": {},
   "source": [
    "## **The dataset**\n",
    "???"
   ]
  },
  {
   "cell_type": "markdown",
   "metadata": {},
   "source": [
    "## **How-to-use**\n",
    "\n",
    "1) **Trying the data**: the user can try listenting to samples (one from each class) of the dataset by picking a word and then press 'play', when the user pressed the play button - the audio is heard and an image describes the \"wave\" of the sound appears.\n",
    "\n",
    "2) **Predicting by recording** : in order to test the model, the user can record himself by clicking 'Record'. Then the record is saved and the user is able to listen to his own recording by clicking 'Play Record'.\n",
    "\n",
    "3) "
   ]
  },
  {
   "cell_type": "markdown",
   "metadata": {},
   "source": [
    "## **Code**"
   ]
  },
  {
   "cell_type": "code",
   "execution_count": 210,
   "metadata": {},
   "outputs": [],
   "source": [
    "# path = \"/data/speech_recog_smaller_ds\"\n",
    "path = \"/Users/omerliberman/Desktop/datasets/mnist_recordings_ds\""
   ]
  },
  {
   "cell_type": "code",
   "execution_count": 211,
   "metadata": {},
   "outputs": [],
   "source": [
    "all_classes = ['0', '1', '2', '3', '4', '5', '6', '7', '8', '9']"
   ]
  },
  {
   "cell_type": "markdown",
   "metadata": {},
   "source": [
    "### **Trying the dataset !**"
   ]
  },
  {
   "cell_type": "code",
   "execution_count": 212,
   "metadata": {},
   "outputs": [],
   "source": [
    "import os, random\n",
    "import soundfile as sf\n",
    "import sounddevice as sd\n",
    "import matplotlib.pyplot as plt\n",
    "\n",
    "from PIL import Image\n",
    "from scipy import signal\n",
    "from scipy.io import wavfile\n",
    "from ipywidgets import Button, VBox, HBox, GridspecLayout, Layout, RadioButtons, Image, Text, FloatText"
   ]
  },
  {
   "cell_type": "code",
   "execution_count": 213,
   "metadata": {},
   "outputs": [],
   "source": [
    "# Create samples from all classes.\n",
    "sub_folders = [f.path for f in os.scandir(path) if f.is_dir() and not f.path.endswith(\".cnvrg\")]\n",
    "\n",
    "random_files = []\n",
    "for sub_folder in sub_folders:\n",
    "    rand_file = random.choice([file for file in os.listdir(sub_folder) if file.endswith('.wav')])\n",
    "    label = sub_folder.split('/')[-1]\n",
    "    random_files.append((sub_folder + \"/\" + rand_file, label))"
   ]
  },
  {
   "cell_type": "code",
   "execution_count": 214,
   "metadata": {},
   "outputs": [],
   "source": [
    "def get_single_spectrogram(path_to_wav, spectrogram_path):\n",
    "    samplingFrequency, signalData = wavfile.read(path_to_wav)\n",
    "    spectrogram = plt.plot(signalData)\n",
    "    plt.axis('off')\n",
    "    plt.savefig(spectrogram_path, bbox_inches='tight')"
   ]
  },
  {
   "cell_type": "code",
   "execution_count": 215,
   "metadata": {},
   "outputs": [],
   "source": [
    "def play_sound_and_create_spectrogram(_=None):\n",
    "    path_of_wav_to_play = [aud for aud in random_files if aud[1] == trying_audio_wid.value][0][0]    \n",
    "    data, fs = sf.read(path_of_wav_to_play, dtype='float32')\n",
    "    sd.play(data, fs)\n",
    "    \n",
    "    spectrogram_img = get_single_spectrogram(path_of_wav_to_play, \"sample_spectrogram.png\")\n",
    "    file = open(\"sample_spectrogram.png\", \"rb\")\n",
    "    image = file.read()\n",
    "    spectrogram_wid.value = image"
   ]
  },
  {
   "cell_type": "code",
   "execution_count": 216,
   "metadata": {},
   "outputs": [],
   "source": [
    "# Selection word button.\n",
    "trying_audio_wid = RadioButtons(options=all_classes,\n",
    "                                value=all_classes[0],\n",
    "                                description='Word:',\n",
    "                                disabled=False)"
   ]
  },
  {
   "cell_type": "code",
   "execution_count": 217,
   "metadata": {},
   "outputs": [],
   "source": [
    "# Playing word button.\n",
    "play_button = Button(description='Play', layout={'width': '128px'})\n",
    "play_button.on_click(play_sound_and_create_spectrogram)"
   ]
  },
  {
   "cell_type": "code",
   "execution_count": 218,
   "metadata": {},
   "outputs": [],
   "source": [
    "# Spectrogram image widget.\n",
    "file = open(\"white.png\", \"rb\")\n",
    "image = file.read()\n",
    "spectrogram_wid = Image(value=image,\n",
    "                        format='png',\n",
    "                        width=128,\n",
    "                        height=128)"
   ]
  },
  {
   "cell_type": "code",
   "execution_count": 219,
   "metadata": {},
   "outputs": [],
   "source": [
    "# Grouping the play button and the spectrogram.\n",
    "vb_of_play_and_spectrogram = VBox([play_button, spectrogram_wid])"
   ]
  },
  {
   "cell_type": "code",
   "execution_count": 220,
   "metadata": {
    "scrolled": false
   },
   "outputs": [
    {
     "data": {
      "application/vnd.jupyter.widget-view+json": {
       "model_id": "707d20bd730f41d28119f542bbbb01b2",
       "version_major": 2,
       "version_minor": 0
      },
      "text/plain": [
       "HBox(children=(RadioButtons(description='Word:', options=('0', '1', '2', '3', '4', '5', '6', '7', '8', '9'), v…"
      ]
     },
     "metadata": {},
     "output_type": "display_data"
    }
   ],
   "source": [
    "# Grouping all the widgets.\n",
    "HBox([trying_audio_wid, vb_of_play_and_spectrogram])"
   ]
  },
  {
   "cell_type": "markdown",
   "metadata": {},
   "source": [
    "### **Record yourself !**"
   ]
  },
  {
   "cell_type": "code",
   "execution_count": 221,
   "metadata": {},
   "outputs": [],
   "source": [
    "from time import sleep\n",
    "from scipy.io.wavfile import write"
   ]
  },
  {
   "cell_type": "code",
   "execution_count": 222,
   "metadata": {},
   "outputs": [],
   "source": [
    "def record_user(_=None):\n",
    "    fs = 16000  # Sample rate\n",
    "    seconds = 1.2  # Duration of recording\n",
    "    status_wid.value = \"Recording...\"\n",
    "    myrecording = sd.rec(int(seconds * fs), samplerate=fs, channels=2)\n",
    "    sd.wait()\n",
    "    write('user_recording.wav', fs, myrecording)\n",
    "    status_wid.value = \"Recorded\""
   ]
  },
  {
   "cell_type": "code",
   "execution_count": 223,
   "metadata": {},
   "outputs": [],
   "source": [
    "# Record user button.\n",
    "record_button = Button(description='Record')\n",
    "record_button.on_click(record_user)"
   ]
  },
  {
   "cell_type": "code",
   "execution_count": 224,
   "metadata": {},
   "outputs": [],
   "source": [
    "def play_user_recording(_=None):\n",
    "    status_wid.value = \"Playing...\"\n",
    "    data, fs = sf.read('user_recording.wav', dtype='float32')\n",
    "    sd.play(data, fs)\n",
    "    \n",
    "    sleep(3)\n",
    "    status_wid.value = status_wid.placeholder"
   ]
  },
  {
   "cell_type": "code",
   "execution_count": 225,
   "metadata": {},
   "outputs": [],
   "source": [
    "# Play user's record button.\n",
    "play_recorded_button = Button(description='Play record')\n",
    "play_recorded_button.on_click(play_user_recording)"
   ]
  },
  {
   "cell_type": "code",
   "execution_count": 226,
   "metadata": {},
   "outputs": [],
   "source": [
    "hb = HBox([record_button, play_recorded_button])"
   ]
  },
  {
   "cell_type": "code",
   "execution_count": 227,
   "metadata": {},
   "outputs": [],
   "source": [
    "# text widget status.\n",
    "status_wid = Text(placeholder='Record yourself !', disabled=True)"
   ]
  },
  {
   "cell_type": "code",
   "execution_count": 228,
   "metadata": {},
   "outputs": [
    {
     "data": {
      "application/vnd.jupyter.widget-view+json": {
       "model_id": "9c300c2bbbd34e1f975cf857c7150db2",
       "version_major": 2,
       "version_minor": 0
      },
      "text/plain": [
       "VBox(children=(HBox(children=(Button(description='Record', style=ButtonStyle()), Button(description='Play reco…"
      ]
     },
     "metadata": {},
     "output_type": "display_data"
    }
   ],
   "source": [
    "vb = VBox([hb, status_wid])\n",
    "\n",
    "vb"
   ]
  },
  {
   "cell_type": "markdown",
   "metadata": {},
   "source": [
    "### **Use the model to predict your record**"
   ]
  },
  {
   "cell_type": "code",
   "execution_count": 229,
   "metadata": {},
   "outputs": [],
   "source": [
    "import json\n",
    "import numpy as np\n",
    "\n",
    "from tensorflow.keras.models import load_model\n",
    "from keras.preprocessing.image import img_to_array\n",
    "from tensorflow.keras.preprocessing.image import load_img"
   ]
  },
  {
   "cell_type": "code",
   "execution_count": 230,
   "metadata": {},
   "outputs": [
    {
     "data": {
      "text/plain": [
       "{'9': 0,\n",
       " '0': 1,\n",
       " '7': 2,\n",
       " '6': 3,\n",
       " '1': 4,\n",
       " '8': 5,\n",
       " '4': 6,\n",
       " '3': 7,\n",
       " '2': 8,\n",
       " '5': 9}"
      ]
     },
     "execution_count": 230,
     "metadata": {},
     "output_type": "execute_result"
    }
   ],
   "source": [
    "model = load_model('cnn_model.h5')\n",
    "\n",
    "dict_of_labels = None\n",
    "with open('labels_dictionary.json') as f:\n",
    "    dict_of_labels = json.load(f)\n",
    "    \n",
    "dict_of_labels"
   ]
  },
  {
   "cell_type": "code",
   "execution_count": 231,
   "metadata": {},
   "outputs": [],
   "source": [
    "def make_prediction(_=None):\n",
    "    # Preparing the recorded file for prediction.\n",
    "    wav_file_to_predict = 'user_recording.wav'\n",
    "\n",
    "    get_single_spectrogram(wav_file_to_predict, 'img_to_predict.png')\n",
    "\n",
    "    image = load_img('img_to_predict.png', target_size=(128, 128), color_mode=\"grayscale\")\n",
    "\n",
    "    image = img_to_array(image)\n",
    "    image = np.expand_dims(image, axis=0)\n",
    "    image /= 255.\n",
    "    \n",
    "    # Insert the results to their true places.\n",
    "    prediction_vec = model.predict(image)\n",
    "        \n",
    "    label_of_pred = np.argmax(prediction_vec)\n",
    "    pred_prob = prediction_vec[0][label_of_pred]\n",
    "    \n",
    "    literal_label = [item[0] for item in dict_of_labels.items() if item[1] == label_of_pred][0]\n",
    "    \n",
    "    prediction_wid.value = literal_label\n",
    "    prob_wid.value = pred_prob"
   ]
  },
  {
   "cell_type": "code",
   "execution_count": 232,
   "metadata": {},
   "outputs": [],
   "source": [
    "predict_button = Button(description='Predict', layout={'width': '300px'})\n",
    "predict_button.on_click(make_prediction)"
   ]
  },
  {
   "cell_type": "code",
   "execution_count": 233,
   "metadata": {},
   "outputs": [],
   "source": [
    "# text widget which is going to include to prediction label.\n",
    "prediction_wid =  Text(description='Prediction: ', placeholder='Prediction', disabled=True)\n",
    "# text widget which is going to include to prediction probability.\n",
    "prob_wid =  FloatText(description='Probability: ', placeholder=0.0, disabled=True)\n",
    "\n",
    "vb_pred_and_prob = VBox([prediction_wid, prob_wid])"
   ]
  },
  {
   "cell_type": "code",
   "execution_count": 234,
   "metadata": {},
   "outputs": [
    {
     "data": {
      "application/vnd.jupyter.widget-view+json": {
       "model_id": "8b4c6f2d5f9e42f8bcd983a03fbacfb7",
       "version_major": 2,
       "version_minor": 0
      },
      "text/plain": [
       "VBox(children=(Button(description='Predict', layout=Layout(width='300px'), style=ButtonStyle()), VBox(children…"
      ]
     },
     "metadata": {},
     "output_type": "display_data"
    },
    {
     "ename": "ValueError",
     "evalue": "Error when checking input: expected conv2d_input to have shape (128, 128, 3) but got array with shape (128, 128, 1)",
     "output_type": "error",
     "traceback": [
      "\u001b[0;31m---------------------------------------------------------------------------\u001b[0m",
      "\u001b[0;31mValueError\u001b[0m                                Traceback (most recent call last)",
      "\u001b[0;32m<ipython-input-231-26701334b4e0>\u001b[0m in \u001b[0;36mmake_prediction\u001b[0;34m(_)\u001b[0m\n\u001b[1;32m     12\u001b[0m \u001b[0;34m\u001b[0m\u001b[0m\n\u001b[1;32m     13\u001b[0m     \u001b[0;31m# Insert the results to their true places.\u001b[0m\u001b[0;34m\u001b[0m\u001b[0;34m\u001b[0m\u001b[0;34m\u001b[0m\u001b[0m\n\u001b[0;32m---> 14\u001b[0;31m     \u001b[0mprediction_vec\u001b[0m \u001b[0;34m=\u001b[0m \u001b[0mmodel\u001b[0m\u001b[0;34m.\u001b[0m\u001b[0mpredict\u001b[0m\u001b[0;34m(\u001b[0m\u001b[0mimage\u001b[0m\u001b[0;34m)\u001b[0m\u001b[0;34m\u001b[0m\u001b[0;34m\u001b[0m\u001b[0m\n\u001b[0m\u001b[1;32m     15\u001b[0m \u001b[0;34m\u001b[0m\u001b[0m\n\u001b[1;32m     16\u001b[0m     \u001b[0mlabel_of_pred\u001b[0m \u001b[0;34m=\u001b[0m \u001b[0mnp\u001b[0m\u001b[0;34m.\u001b[0m\u001b[0margmax\u001b[0m\u001b[0;34m(\u001b[0m\u001b[0mprediction_vec\u001b[0m\u001b[0;34m)\u001b[0m\u001b[0;34m\u001b[0m\u001b[0;34m\u001b[0m\u001b[0m\n",
      "\u001b[0;32m/Library/Frameworks/Python.framework/Versions/3.7/lib/python3.7/site-packages/tensorflow/python/keras/engine/training.py\u001b[0m in \u001b[0;36mpredict\u001b[0;34m(self, x, batch_size, verbose, steps, callbacks, max_queue_size, workers, use_multiprocessing)\u001b[0m\n\u001b[1;32m   1058\u001b[0m     \u001b[0;31m# generate symbolic tensors).\u001b[0m\u001b[0;34m\u001b[0m\u001b[0;34m\u001b[0m\u001b[0;34m\u001b[0m\u001b[0m\n\u001b[1;32m   1059\u001b[0m     x, _, _ = self._standardize_user_data(\n\u001b[0;32m-> 1060\u001b[0;31m         x, check_steps=True, steps_name='steps', steps=steps)\n\u001b[0m\u001b[1;32m   1061\u001b[0m \u001b[0;34m\u001b[0m\u001b[0m\n\u001b[1;32m   1062\u001b[0m     \u001b[0;32mif\u001b[0m \u001b[0mself\u001b[0m\u001b[0;34m.\u001b[0m\u001b[0mrun_eagerly\u001b[0m\u001b[0;34m:\u001b[0m\u001b[0;34m\u001b[0m\u001b[0;34m\u001b[0m\u001b[0m\n",
      "\u001b[0;32m/Library/Frameworks/Python.framework/Versions/3.7/lib/python3.7/site-packages/tensorflow/python/keras/engine/training.py\u001b[0m in \u001b[0;36m_standardize_user_data\u001b[0;34m(self, x, y, sample_weight, class_weight, batch_size, check_steps, steps_name, steps, validation_split, shuffle, extract_tensors_from_dataset)\u001b[0m\n\u001b[1;32m   2649\u001b[0m           \u001b[0mfeed_input_shapes\u001b[0m\u001b[0;34m,\u001b[0m\u001b[0;34m\u001b[0m\u001b[0;34m\u001b[0m\u001b[0m\n\u001b[1;32m   2650\u001b[0m           \u001b[0mcheck_batch_axis\u001b[0m\u001b[0;34m=\u001b[0m\u001b[0;32mFalse\u001b[0m\u001b[0;34m,\u001b[0m  \u001b[0;31m# Don't enforce the batch size.\u001b[0m\u001b[0;34m\u001b[0m\u001b[0;34m\u001b[0m\u001b[0m\n\u001b[0;32m-> 2651\u001b[0;31m           exception_prefix='input')\n\u001b[0m\u001b[1;32m   2652\u001b[0m \u001b[0;34m\u001b[0m\u001b[0m\n\u001b[1;32m   2653\u001b[0m     \u001b[0;32mif\u001b[0m \u001b[0my\u001b[0m \u001b[0;32mis\u001b[0m \u001b[0;32mnot\u001b[0m \u001b[0;32mNone\u001b[0m\u001b[0;34m:\u001b[0m\u001b[0;34m\u001b[0m\u001b[0;34m\u001b[0m\u001b[0m\n",
      "\u001b[0;32m/Library/Frameworks/Python.framework/Versions/3.7/lib/python3.7/site-packages/tensorflow/python/keras/engine/training_utils.py\u001b[0m in \u001b[0;36mstandardize_input_data\u001b[0;34m(data, names, shapes, check_batch_axis, exception_prefix)\u001b[0m\n\u001b[1;32m    383\u001b[0m                              \u001b[0;34m': expected '\u001b[0m \u001b[0;34m+\u001b[0m \u001b[0mnames\u001b[0m\u001b[0;34m[\u001b[0m\u001b[0mi\u001b[0m\u001b[0;34m]\u001b[0m \u001b[0;34m+\u001b[0m \u001b[0;34m' to have shape '\u001b[0m \u001b[0;34m+\u001b[0m\u001b[0;34m\u001b[0m\u001b[0;34m\u001b[0m\u001b[0m\n\u001b[1;32m    384\u001b[0m                              \u001b[0mstr\u001b[0m\u001b[0;34m(\u001b[0m\u001b[0mshape\u001b[0m\u001b[0;34m)\u001b[0m \u001b[0;34m+\u001b[0m \u001b[0;34m' but got array with shape '\u001b[0m \u001b[0;34m+\u001b[0m\u001b[0;34m\u001b[0m\u001b[0;34m\u001b[0m\u001b[0m\n\u001b[0;32m--> 385\u001b[0;31m                              str(data_shape))\n\u001b[0m\u001b[1;32m    386\u001b[0m   \u001b[0;32mreturn\u001b[0m \u001b[0mdata\u001b[0m\u001b[0;34m\u001b[0m\u001b[0;34m\u001b[0m\u001b[0m\n\u001b[1;32m    387\u001b[0m \u001b[0;34m\u001b[0m\u001b[0m\n",
      "\u001b[0;31mValueError\u001b[0m: Error when checking input: expected conv2d_input to have shape (128, 128, 3) but got array with shape (128, 128, 1)"
     ]
    },
    {
     "data": {
      "image/png": "[encoded data removed]",
      "text/plain": [
       "<Figure size 432x288 with 1 Axes>"
      ]
     },
     "metadata": {
      "needs_background": "light"
     },
     "output_type": "display_data"
    }
   ],
   "source": [
    "vb_prediction = VBox([predict_button, vb_pred_and_prob])\n",
    "\n",
    "vb_prediction"
   ]
  },
  {
   "cell_type": "code",
   "execution_count": null,
   "metadata": {},
   "outputs": [],
   "source": []
  }
 ],
 "metadata": {
  "hide_input": false,
  "kernelspec": {
   "display_name": "Python 3",
   "language": "python",
   "name": "python3"
  },
  "language_info": {
   "codemirror_mode": {
    "name": "ipython",
    "version": 3
   },
   "file_extension": ".py",
   "mimetype": "text/x-python",
   "name": "python",
   "nbconvert_exporter": "python",
   "pygments_lexer": "ipython3",
   "version": "3.7.4"
  },
  "toc": {
   "base_numbering": 1,
   "nav_menu": {},
   "number_sections": true,
   "sideBar": true,
   "skip_h1_title": false,
   "title_cell": "Table of Contents",
   "title_sidebar": "Contents",
   "toc_cell": false,
   "toc_position": {},
   "toc_section_display": true,
   "toc_window_display": false
  }
 },
 "nbformat": 4,
 "nbformat_minor": 4
}
