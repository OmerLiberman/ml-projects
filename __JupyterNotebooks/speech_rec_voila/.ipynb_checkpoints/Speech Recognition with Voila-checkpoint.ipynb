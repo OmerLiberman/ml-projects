{
 "cells": [
  {
   "cell_type": "markdown",
   "metadata": {},
   "source": [
    "# **Speech Recognition with Voila**"
   ]
  },
  {
   "cell_type": "markdown",
   "metadata": {},
   "source": [
    "## **About speech recognition**\n",
    "\n",
    "Speech recognition is a interdisciplinary subfield of computational linguistics that develops methodologies and technologies that enables the recognition and translation of spoken language into text by computers."
   ]
  },
  {
   "cell_type": "markdown",
   "metadata": {},
   "source": [
    "## **The model**\n",
    "\n",
    "The technique which we are going to use here is to convert each wav file to a spectrogram and then to apply image classification techniques. In this example, we are going to use convolutional neural network model with 3 layers. "
   ]
  },
  {
   "cell_type": "markdown",
   "metadata": {},
   "source": [
    "## **The dataset**\n",
    "The dataset which we are using in this example consists 30 classes. Each class includes 2000-2500 audio files (wav).\n",
    "But, in order to make the model lite we would use only 8 classes out of the 30.\n",
    "\n",
    "The classes which would be used for thie example: bed, bird, cat, dog, down, six, stop, three."
   ]
  },
  {
   "cell_type": "markdown",
   "metadata": {},
   "source": [
    "## **How-to-use**\n",
    "\n",
    "1) **Trying the data**: the user can try listenting to samples (one from each class) of the dataset by picking a word and then press 'play', when the user pressed the play button - the audio is heard and an image describes the \"wave\" of the sound appears.\n",
    "\n",
    "2) **Predicting by recording** : in order to test the model, the user can record himself by clicking 'Record'. Then the record is saved and the user is able to listen to his own recording by clicking 'Play Record'.\n",
    "\n",
    "3) "
   ]
  },
  {
   "cell_type": "markdown",
   "metadata": {},
   "source": [
    "## **Code**"
   ]
  },
  {
   "cell_type": "code",
   "execution_count": 493,
   "metadata": {},
   "outputs": [],
   "source": [
    "# path = \"/data/speech_recog_smaller_ds\"\n",
    "path = \"/Users/omerliberman/Desktop/datasets/voice/speech_recog_smaller_ds\""
   ]
  },
  {
   "cell_type": "code",
   "execution_count": 494,
   "metadata": {},
   "outputs": [],
   "source": [
    "all_classes = ['bed', 'bird', 'cat', 'dog', 'down', 'six', 'stop', 'three']"
   ]
  },
  {
   "cell_type": "code",
   "execution_count": 495,
   "metadata": {},
   "outputs": [],
   "source": [
    "import warnings\n",
    "warnings.filterwarnings('ignore',category=FutureWarning)\n",
    "warnings.filterwarnings('ignore',category=DeprecationWarning)"
   ]
  },
  {
   "cell_type": "markdown",
   "metadata": {},
   "source": [
    "### **Trying the dataset !**"
   ]
  },
  {
   "cell_type": "code",
   "execution_count": 496,
   "metadata": {},
   "outputs": [],
   "source": [
    "import os, random\n",
    "import soundfile as sf\n",
    "import matplotlib.pyplot as plt\n",
    "\n",
    "from PIL import Image\n",
    "from scipy import signal\n",
    "from scipy.io import wavfile\n",
    "from ipywidgets import Button, VBox, HBox, GridspecLayout, Layout, RadioButtons, Image, Text, FloatText"
   ]
  },
  {
   "cell_type": "code",
   "execution_count": 497,
   "metadata": {},
   "outputs": [],
   "source": [
    "# Create samples from all classes.\n",
    "sub_folders = [f.path for f in os.scandir(path) if f.is_dir() and not f.path.endswith(\".cnvrg\")]\n",
    "\n",
    "random_files = []\n",
    "for sub_folder in sub_folders:\n",
    "    rand_file = random.choice([file for file in os.listdir(sub_folder) if file.endswith('.wav')])\n",
    "    label = sub_folder.split('/')[-1]\n",
    "    random_files.append((sub_folder + \"/\" + rand_file, label))"
   ]
  },
  {
   "cell_type": "code",
   "execution_count": 498,
   "metadata": {},
   "outputs": [],
   "source": [
    "def get_single_spectrogram(path_to_wav, spectrogram_path):\n",
    "    samplingFrequency, signalData = wavfile.read(path_to_wav)\n",
    "    spectrogram = plt.plot(signalData)\n",
    "    plt.axis('off')\n",
    "    plt.savefig(spectrogram_path, bbox_inches='tight')"
   ]
  },
  {
   "cell_type": "code",
   "execution_count": 499,
   "metadata": {},
   "outputs": [],
   "source": [
    "def play_sound_and_create_spectrogram(_=None):\n",
    "    path_of_wav_to_play = [aud for aud in random_files if aud[1] == trying_audio_wid.value][0][0]    \n",
    "    data, fs = sf.read(path_of_wav_to_play, dtype='float32')\n",
    "    sd.play(data, fs)\n",
    "    \n",
    "    spectrogram_img = get_single_spectrogram(path_of_wav_to_play, \"sample_spectrogram.png\")\n",
    "    file = open(\"sample_spectrogram.png\", \"rb\")\n",
    "    image = file.read()\n",
    "    spectrogram_wid.value = image"
   ]
  },
  {
   "cell_type": "code",
   "execution_count": 500,
   "metadata": {},
   "outputs": [],
   "source": [
    "# Selection word button.\n",
    "trying_audio_wid = RadioButtons(options=all_classes,\n",
    "                                value=all_classes[0],\n",
    "                                description='Word:',\n",
    "                                disabled=False)"
   ]
  },
  {
   "cell_type": "code",
   "execution_count": 501,
   "metadata": {},
   "outputs": [],
   "source": [
    "# Playing word button.\n",
    "play_button = Button(description='Play', layout={'width': '100px'})\n",
    "play_button.on_click(play_sound_and_create_spectrogram)"
   ]
  },
  {
   "cell_type": "code",
   "execution_count": 502,
   "metadata": {},
   "outputs": [],
   "source": [
    "# Spectrogram image widget.\n",
    "file = open(\"white.png\", \"rb\")\n",
    "image = file.read()\n",
    "spectrogram_wid = Image(value=image,\n",
    "                        format='png',\n",
    "                        width=100,\n",
    "                        height=100)"
   ]
  },
  {
   "cell_type": "code",
   "execution_count": 503,
   "metadata": {},
   "outputs": [],
   "source": [
    "# Grouping the play button and the spectrogram.\n",
    "vb_of_play_and_spectrogram = VBox([play_button, spectrogram_wid])"
   ]
  },
  {
   "cell_type": "code",
   "execution_count": 504,
   "metadata": {
    "scrolled": false
   },
   "outputs": [
    {
     "data": {
      "application/vnd.jupyter.widget-view+json": {
       "model_id": "ab320e58e4d54537951c67f14d816468",
       "version_major": 2,
       "version_minor": 0
      },
      "text/plain": [
       "HBox(children=(RadioButtons(description='Word:', options=('bed', 'bird', 'cat', 'dog', 'down', 'six', 'stop', …"
      ]
     },
     "metadata": {},
     "output_type": "display_data"
    }
   ],
   "source": [
    "# Grouping all the widgets.\n",
    "HBox([trying_audio_wid, vb_of_play_and_spectrogram])"
   ]
  },
  {
   "cell_type": "markdown",
   "metadata": {},
   "source": [
    "### **Record yourself !**"
   ]
  },
  {
   "cell_type": "code",
   "execution_count": 505,
   "metadata": {},
   "outputs": [],
   "source": [
    "import sounddevice as sd\n",
    "\n",
    "from time import sleep\n",
    "from scipy.io.wavfile import write"
   ]
  },
  {
   "cell_type": "code",
   "execution_count": 506,
   "metadata": {},
   "outputs": [],
   "source": [
    "def record_user(_=None):\n",
    "    fs = 16000  # Sample rate\n",
    "    seconds = 1.2  # Duration of recording\n",
    "    status_wid.value = \"Recording...\"\n",
    "    myrecording = sd.rec(int(seconds * fs), samplerate=fs, channels=2)\n",
    "    sd.wait()\n",
    "    write('user_recording.wav', fs, myrecording)\n",
    "    status_wid.value = \"Recorded\""
   ]
  },
  {
   "cell_type": "code",
   "execution_count": 507,
   "metadata": {},
   "outputs": [],
   "source": [
    "# Record user button.\n",
    "record_button = Button(description='Record')\n",
    "record_button.on_click(record_user)"
   ]
  },
  {
   "cell_type": "code",
   "execution_count": 508,
   "metadata": {},
   "outputs": [],
   "source": [
    "def play_user_recording(_=None):\n",
    "    status_wid.value = \"Playing...\"\n",
    "    data, fs = sf.read('user_recording.wav', dtype='float32')\n",
    "    sd.play(data, fs)\n",
    "    \n",
    "    sleep(3)\n",
    "    status_wid.value = status_wid.placeholder"
   ]
  },
  {
   "cell_type": "code",
   "execution_count": 509,
   "metadata": {},
   "outputs": [],
   "source": [
    "# Play user's record button.\n",
    "play_recorded_button = Button(description='Play record')\n",
    "play_recorded_button.on_click(play_user_recording)"
   ]
  },
  {
   "cell_type": "code",
   "execution_count": 510,
   "metadata": {},
   "outputs": [],
   "source": [
    "hb = HBox([record_button, play_recorded_button])"
   ]
  },
  {
   "cell_type": "code",
   "execution_count": 511,
   "metadata": {},
   "outputs": [],
   "source": [
    "# text widget status.\n",
    "status_wid = Text(placeholder='Record yourself !', disabled=True)"
   ]
  },
  {
   "cell_type": "code",
   "execution_count": 512,
   "metadata": {},
   "outputs": [
    {
     "data": {
      "application/vnd.jupyter.widget-view+json": {
       "model_id": "575f3ae8b6304509aa3fc29bb47ffe46",
       "version_major": 2,
       "version_minor": 0
      },
      "text/plain": [
       "VBox(children=(HBox(children=(Button(description='Record', style=ButtonStyle()), Button(description='Play reco…"
      ]
     },
     "metadata": {},
     "output_type": "display_data"
    }
   ],
   "source": [
    "vb = VBox([hb, status_wid])\n",
    "\n",
    "vb"
   ]
  },
  {
   "cell_type": "markdown",
   "metadata": {},
   "source": [
    "### **Use the model to predict your record**"
   ]
  },
  {
   "cell_type": "code",
   "execution_count": 513,
   "metadata": {},
   "outputs": [],
   "source": [
    "import json\n",
    "import numpy as np\n",
    "\n",
    "from tensorflow.keras.models import load_model\n",
    "from keras.preprocessing.image import img_to_array\n",
    "from tensorflow.keras.preprocessing.image import load_img"
   ]
  },
  {
   "cell_type": "code",
   "execution_count": 514,
   "metadata": {},
   "outputs": [
    {
     "data": {
      "text/plain": [
       "{'cat': 0,\n",
       " 'bed': 1,\n",
       " 'dog': 2,\n",
       " 'stop': 3,\n",
       " 'three': 4,\n",
       " 'bird': 5,\n",
       " 'down': 6,\n",
       " 'six': 7}"
      ]
     },
     "execution_count": 514,
     "metadata": {},
     "output_type": "execute_result"
    }
   ],
   "source": [
    "model = load_model('CNN_Model.h5')\n",
    "\n",
    "dict_of_labels = None\n",
    "with open('labels_dictionary.json') as f:\n",
    "    dict_of_labels = json.load(f)\n",
    "    \n",
    "dict_of_labels"
   ]
  },
  {
   "cell_type": "code",
   "execution_count": 515,
   "metadata": {},
   "outputs": [],
   "source": [
    "def make_prediction(_=None):\n",
    "    # Preparing the recorded file for prediction.\n",
    "    wav_file_to_predict = 'user_recording.wav'\n",
    "\n",
    "    get_single_spectrogram(wav_file_to_predict, 'img_to_predict.png')\n",
    "\n",
    "    image = load_img('img_to_predict.png', target_size=(200, 200))\n",
    "\n",
    "    image = img_to_array(image)\n",
    "    image = np.expand_dims(image, axis=0)\n",
    "    image /= 255.\n",
    "    \n",
    "    # Insert the results to their true places.\n",
    "    prediction_vec = model.predict(image)\n",
    "    \n",
    "    label_of_pred = np.argmax(prediction_vec)\n",
    "    pred_prob = prediction_vec[0][label_of_pred]\n",
    "    \n",
    "    literal_label = [item[0] for item in dict_of_labels.items() if item[1] == label_of_pred][0]\n",
    "    \n",
    "    prediction_wid.value = literal_label\n",
    "    prob_wid.value = pred_prob"
   ]
  },
  {
   "cell_type": "code",
   "execution_count": 516,
   "metadata": {},
   "outputs": [],
   "source": [
    "predict_button = Button(description='Predict', layout={'width': '300px'})\n",
    "predict_button.on_click(make_prediction)"
   ]
  },
  {
   "cell_type": "code",
   "execution_count": 517,
   "metadata": {},
   "outputs": [],
   "source": [
    "# text widget which is going to include to prediction label.\n",
    "prediction_wid =  Text(description='Prediction: ', placeholder='Prediction', disabled=True)\n",
    "# text widget which is going to include to prediction probability.\n",
    "prob_wid =  FloatText(description='Probability: ', placeholder=0.0, disabled=True)\n",
    "\n",
    "vb_pred_and_prob = VBox([prediction_wid, prob_wid])"
   ]
  },
  {
   "cell_type": "code",
   "execution_count": 518,
   "metadata": {},
   "outputs": [
    {
     "data": {
      "application/vnd.jupyter.widget-view+json": {
       "model_id": "f19404d2a8214b3b80b091add5272bb4",
       "version_major": 2,
       "version_minor": 0
      },
      "text/plain": [
       "VBox(children=(Button(description='Predict', layout=Layout(width='300px'), style=ButtonStyle()), VBox(children…"
      ]
     },
     "metadata": {},
     "output_type": "display_data"
    },
    {
     "data": {
      "image/png": "[encoded data removed]",
      "text/plain": [
       "<Figure size 432x288 with 1 Axes>"
      ]
     },
     "metadata": {
      "needs_background": "light"
     },
     "output_type": "display_data"
    },
    {
     "data": {
      "image/png": "[encoded data removed]",
      "text/plain": [
       "<Figure size 432x288 with 1 Axes>"
      ]
     },
     "metadata": {
      "needs_background": "light"
     },
     "output_type": "display_data"
    }
   ],
   "source": [
    "vb_prediction = VBox([predict_button, vb_pred_and_prob])\n",
    "\n",
    "vb_prediction"
   ]
  },
  {
   "cell_type": "code",
   "execution_count": null,
   "metadata": {},
   "outputs": [],
   "source": []
  }
 ],
 "metadata": {
  "hide_input": false,
  "kernelspec": {
   "display_name": "Python 3",
   "language": "python",
   "name": "python3"
  },
  "language_info": {
   "codemirror_mode": {
    "name": "ipython",
    "version": 3
   },
   "file_extension": ".py",
   "mimetype": "text/x-python",
   "name": "python",
   "nbconvert_exporter": "python",
   "pygments_lexer": "ipython3",
   "version": "3.7.4"
  },
  "toc": {
   "base_numbering": 1,
   "nav_menu": {},
   "number_sections": true,
   "sideBar": true,
   "skip_h1_title": false,
   "title_cell": "Table of Contents",
   "title_sidebar": "Contents",
   "toc_cell": false,
   "toc_position": {},
   "toc_section_display": true,
   "toc_window_display": false
  }
 },
 "nbformat": 4,
 "nbformat_minor": 4
}
