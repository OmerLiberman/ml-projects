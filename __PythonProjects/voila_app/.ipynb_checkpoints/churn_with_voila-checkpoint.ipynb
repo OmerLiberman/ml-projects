{
 "cells": [
  {
   "cell_type": "markdown",
   "metadata": {
    "hide_input": true
   },
   "source": [
    "# **Churn prediction scoring with Jupyter Voilà  and Lime**\n",
    "---"
   ]
  },
  {
   "cell_type": "markdown",
   "metadata": {},
   "source": [
    "## **Churn Prediction**\n",
    "\n",
    "Customer attrition, also known as customer churn, customer turnover, or customer defection, is the loss of clients or customers.\n",
    "Banks, telephone service companies, Internet service providers, pay TV companies, insurance firms, and alarm monitoring services, often use **customer prediction** analysis and customer prediction rates as one of their key business metrics (along with cash flow, EBITDA, etc.) because the cost of retaining an existing customer is far less than acquiring a new one."
   ]
  },
  {
   "cell_type": "markdown",
   "metadata": {},
   "source": [
    "## **Dataset**\n",
    "\n",
    "In this example, we are using banking churn prediction dataset.\n",
    "\n",
    "Link - https://www.kaggle.com/nasirislamsujan/bank-customer-churn-prediction/data"
   ]
  },
  {
   "cell_type": "markdown",
   "metadata": {},
   "source": [
    "## **How to use**\n",
    "- The dataset is already set, and the preprocessing code also.\n",
    "- The user needs to pick the model from the list and train it on the processed data.\n",
    "- Important: **training might take few seconds**\n",
    "- Then the user gets back the metrics (loss and accuracy) of the model.\n",
    "- After training the model, the user can use the sliders and buttons to insert single user data and make predictions by himself.\n",
    "- For each prediction, if the user is interested, he can recive an image which explains the prediction of the model."
   ]
  },
  {
   "cell_type": "markdown",
   "metadata": {},
   "source": [
    "## **Code**"
   ]
  },
  {
   "cell_type": "code",
   "execution_count": 44,
   "metadata": {},
   "outputs": [],
   "source": [
    "import warnings\n",
    "warnings.filterwarnings(\"ignore\")\n",
    "warnings.filterwarnings(\"ignore\", category=DeprecationWarning)"
   ]
  },
  {
   "cell_type": "markdown",
   "metadata": {},
   "source": [
    "### **Dataset**"
   ]
  },
  {
   "cell_type": "code",
   "execution_count": 45,
   "metadata": {},
   "outputs": [],
   "source": [
    "import pandas as pd\n",
    "from sklearn import preprocessing\n",
    "from sklearn.model_selection import train_test_split"
   ]
  },
  {
   "cell_type": "code",
   "execution_count": 46,
   "metadata": {},
   "outputs": [],
   "source": [
    "# Path in cnvrg datasets.\n",
    "# path = '/data/churn-prediction-banking/Churn_Modelling.csv'\n",
    "\n",
    "# Path in local.\n",
    "path = '/Users/omerliberman/Desktop/datasets/churn prediction - banking/ds.csv'"
   ]
  },
  {
   "cell_type": "code",
   "execution_count": 47,
   "metadata": {
    "scrolled": true
   },
   "outputs": [],
   "source": [
    "df = pd.read_csv(path, index_col='RowNumber')\n",
    "df = df.sample(frac=1).reset_index()\n",
    "\n",
    "groupby = df.groupby('Exited')\n",
    "all_ones = groupby.get_group(1).set_index('RowNumber')\n",
    "all_zeros = groupby.get_group(0).set_index('RowNumber')"
   ]
  },
  {
   "cell_type": "code",
   "execution_count": 48,
   "metadata": {},
   "outputs": [
    {
     "data": {
      "text/html": [
       "<div>\n",
       "<style scoped>\n",
       "    .dataframe tbody tr th:only-of-type {\n",
       "        vertical-align: middle;\n",
       "    }\n",
       "\n",
       "    .dataframe tbody tr th {\n",
       "        vertical-align: top;\n",
       "    }\n",
       "\n",
       "    .dataframe thead th {\n",
       "        text-align: right;\n",
       "    }\n",
       "</style>\n",
       "<table border=\"1\" class=\"dataframe\">\n",
       "  <thead>\n",
       "    <tr style=\"text-align: right;\">\n",
       "      <th></th>\n",
       "      <th>CustomerId</th>\n",
       "      <th>Surname</th>\n",
       "      <th>CreditScore</th>\n",
       "      <th>Geography</th>\n",
       "      <th>Gender</th>\n",
       "      <th>Age</th>\n",
       "      <th>Tenure</th>\n",
       "      <th>Balance</th>\n",
       "      <th>NumOfProducts</th>\n",
       "      <th>HasCrCard</th>\n",
       "      <th>IsActiveMember</th>\n",
       "      <th>EstimatedSalary</th>\n",
       "      <th>Exited</th>\n",
       "    </tr>\n",
       "    <tr>\n",
       "      <th>RowNumber</th>\n",
       "      <th></th>\n",
       "      <th></th>\n",
       "      <th></th>\n",
       "      <th></th>\n",
       "      <th></th>\n",
       "      <th></th>\n",
       "      <th></th>\n",
       "      <th></th>\n",
       "      <th></th>\n",
       "      <th></th>\n",
       "      <th></th>\n",
       "      <th></th>\n",
       "      <th></th>\n",
       "    </tr>\n",
       "  </thead>\n",
       "  <tbody>\n",
       "    <tr>\n",
       "      <th>271</th>\n",
       "      <td>15787071</td>\n",
       "      <td>Dulhunty</td>\n",
       "      <td>650</td>\n",
       "      <td>Spain</td>\n",
       "      <td>Male</td>\n",
       "      <td>41</td>\n",
       "      <td>9</td>\n",
       "      <td>0.00</td>\n",
       "      <td>2</td>\n",
       "      <td>0</td>\n",
       "      <td>1</td>\n",
       "      <td>191599.67</td>\n",
       "      <td>0</td>\n",
       "    </tr>\n",
       "    <tr>\n",
       "      <th>5063</th>\n",
       "      <td>15650432</td>\n",
       "      <td>Liu</td>\n",
       "      <td>849</td>\n",
       "      <td>Germany</td>\n",
       "      <td>Male</td>\n",
       "      <td>41</td>\n",
       "      <td>10</td>\n",
       "      <td>84622.13</td>\n",
       "      <td>1</td>\n",
       "      <td>1</td>\n",
       "      <td>1</td>\n",
       "      <td>198072.16</td>\n",
       "      <td>0</td>\n",
       "    </tr>\n",
       "    <tr>\n",
       "      <th>5532</th>\n",
       "      <td>15696744</td>\n",
       "      <td>Miller</td>\n",
       "      <td>705</td>\n",
       "      <td>France</td>\n",
       "      <td>Female</td>\n",
       "      <td>31</td>\n",
       "      <td>3</td>\n",
       "      <td>119794.67</td>\n",
       "      <td>1</td>\n",
       "      <td>0</td>\n",
       "      <td>0</td>\n",
       "      <td>182528.44</td>\n",
       "      <td>0</td>\n",
       "    </tr>\n",
       "    <tr>\n",
       "      <th>6497</th>\n",
       "      <td>15789313</td>\n",
       "      <td>Ugorji</td>\n",
       "      <td>595</td>\n",
       "      <td>Germany</td>\n",
       "      <td>Female</td>\n",
       "      <td>44</td>\n",
       "      <td>4</td>\n",
       "      <td>96553.52</td>\n",
       "      <td>2</td>\n",
       "      <td>1</td>\n",
       "      <td>0</td>\n",
       "      <td>143952.24</td>\n",
       "      <td>1</td>\n",
       "    </tr>\n",
       "    <tr>\n",
       "      <th>2640</th>\n",
       "      <td>15581036</td>\n",
       "      <td>Beyer</td>\n",
       "      <td>712</td>\n",
       "      <td>Germany</td>\n",
       "      <td>Female</td>\n",
       "      <td>40</td>\n",
       "      <td>3</td>\n",
       "      <td>109308.79</td>\n",
       "      <td>2</td>\n",
       "      <td>1</td>\n",
       "      <td>0</td>\n",
       "      <td>120158.72</td>\n",
       "      <td>1</td>\n",
       "    </tr>\n",
       "    <tr>\n",
       "      <th>5357</th>\n",
       "      <td>15655436</td>\n",
       "      <td>Kendall</td>\n",
       "      <td>839</td>\n",
       "      <td>Germany</td>\n",
       "      <td>Male</td>\n",
       "      <td>47</td>\n",
       "      <td>2</td>\n",
       "      <td>136911.07</td>\n",
       "      <td>1</td>\n",
       "      <td>1</td>\n",
       "      <td>1</td>\n",
       "      <td>168184.62</td>\n",
       "      <td>1</td>\n",
       "    </tr>\n",
       "  </tbody>\n",
       "</table>\n",
       "</div>"
      ],
      "text/plain": [
       "           CustomerId   Surname  CreditScore Geography  Gender  Age  Tenure  \\\n",
       "RowNumber                                                                     \n",
       "271          15787071  Dulhunty          650     Spain    Male   41       9   \n",
       "5063         15650432       Liu          849   Germany    Male   41      10   \n",
       "5532         15696744    Miller          705    France  Female   31       3   \n",
       "6497         15789313    Ugorji          595   Germany  Female   44       4   \n",
       "2640         15581036     Beyer          712   Germany  Female   40       3   \n",
       "5357         15655436   Kendall          839   Germany    Male   47       2   \n",
       "\n",
       "             Balance  NumOfProducts  HasCrCard  IsActiveMember  \\\n",
       "RowNumber                                                        \n",
       "271             0.00              2          0               1   \n",
       "5063        84622.13              1          1               1   \n",
       "5532       119794.67              1          0               0   \n",
       "6497        96553.52              2          1               0   \n",
       "2640       109308.79              2          1               0   \n",
       "5357       136911.07              1          1               1   \n",
       "\n",
       "           EstimatedSalary  Exited  \n",
       "RowNumber                           \n",
       "271              191599.67       0  \n",
       "5063             198072.16       0  \n",
       "5532             182528.44       0  \n",
       "6497             143952.24       1  \n",
       "2640             120158.72       1  \n",
       "5357             168184.62       1  "
      ]
     },
     "execution_count": 48,
     "metadata": {},
     "output_type": "execute_result"
    }
   ],
   "source": [
    "sample_of_zeros = all_zeros.head(3)\n",
    "sample_of_ones = all_ones.head(3)\n",
    "\n",
    "sample = sample_of_zeros\n",
    "sample = sample.append(sample_of_ones)\n",
    "\n",
    "sample"
   ]
  },
  {
   "cell_type": "code",
   "execution_count": 49,
   "metadata": {
    "hide_input": true,
    "tags": [
     "remove_cell"
    ]
   },
   "outputs": [],
   "source": [
    "# **Preprocessing**"
   ]
  },
  {
   "cell_type": "code",
   "execution_count": 50,
   "metadata": {},
   "outputs": [],
   "source": [
    "# Features should be \"dummied\".\n",
    "features_to_dummy = ['Geography', 'Gender']\n",
    "\n",
    "# Features should be dropped.\n",
    "features_to_drop = ['RowNumber', 'Surname', 'CustomerId', 'IsActiveMember']\n",
    "\n",
    "# Features to scale.\n",
    "features_to_scale = ['CreditScore', 'Age', 'Balance', 'EstimatedSalary']"
   ]
  },
  {
   "cell_type": "code",
   "execution_count": 51,
   "metadata": {},
   "outputs": [],
   "source": [
    "# Drop redundant columns\n",
    "df = df.drop(labels=features_to_drop, axis=1)\n",
    "\n",
    "# Convert the features Geography and Gender to categorical features.\n",
    "df = pd.get_dummies(df, columns=features_to_dummy, dtype=float)\n",
    "\n",
    "# Scaling.\n",
    "max_values_dict = dict()\n",
    "for col in features_to_scale:\n",
    "    max_in_col = max(df[col])\n",
    "    max_values_dict[col] = max_in_col\n",
    "    df[col] /= max_in_col"
   ]
  },
  {
   "cell_type": "code",
   "execution_count": 52,
   "metadata": {},
   "outputs": [],
   "source": [
    "# Set the X, y.\n",
    "target_col = 'Exited'\n",
    "X, y = df.drop(labels=target_col, axis=1), df[target_col]\n",
    "\n",
    "df = X\n",
    "df[target_col] = y"
   ]
  },
  {
   "cell_type": "code",
   "execution_count": 53,
   "metadata": {},
   "outputs": [],
   "source": [
    "# Spliting to train & test sets.\n",
    "feature_names = df.columns\n",
    "test_size = 0.2\n",
    "train, test = train_test_split(df, test_size=test_size)"
   ]
  },
  {
   "cell_type": "code",
   "execution_count": 54,
   "metadata": {},
   "outputs": [],
   "source": [
    "# Setting X and y for training.\n",
    "X_train, y_train = train.iloc[:, :-1], train.iloc[:, -1]\n",
    "X_test, y_test = test.iloc[:, :-1], test.iloc[:, -1]"
   ]
  },
  {
   "cell_type": "markdown",
   "metadata": {},
   "source": [
    "### **Training**"
   ]
  },
  {
   "cell_type": "code",
   "execution_count": 55,
   "metadata": {},
   "outputs": [],
   "source": [
    "import pickle\n",
    "from ipywidgets import widgets, ButtonStyle\n",
    "from sklearn.metrics import zero_one_loss, accuracy_score\n",
    "\n",
    "from sklearn.svm import SVC\n",
    "from sklearn.neighbors import KNeighborsClassifier\n",
    "\n",
    "from sklearn.naive_bayes import GaussianNB\n",
    "from sklearn.tree import DecisionTreeClassifier"
   ]
  },
  {
   "cell_type": "code",
   "execution_count": 56,
   "metadata": {},
   "outputs": [
    {
     "data": {
      "application/vnd.jupyter.widget-view+json": {
       "model_id": "e891c8c74d1f477db4bf44c70373cc7b",
       "version_major": 2,
       "version_minor": 0
      },
      "text/plain": [
       "Select(description='Model: ', options=('10-nearest-neighbors', 'SVM', 'GaussianNaiveBayes', 'DecisionTree'), r…"
      ]
     },
     "metadata": {},
     "output_type": "display_data"
    }
   ],
   "source": [
    "model_wid = widgets.Select(\n",
    "                            options=['10-nearest-neighbors', 'SVM', 'GaussianNaiveBayes', 'DecisionTree'],\n",
    "                            value='10-nearest-neighbors',\n",
    "                            rows=4,\n",
    "                            description='Model: ',\n",
    "                            disabled=False\n",
    "                            )\n",
    "model_wid"
   ]
  },
  {
   "cell_type": "code",
   "execution_count": 57,
   "metadata": {},
   "outputs": [],
   "source": [
    "def select_model(model_name):\n",
    "    if model_name == '10-nearest-neighbors':\n",
    "        return KNeighborsClassifier(n_neighbors=10)\n",
    "    \n",
    "    elif model_name == 'SVM':\n",
    "        return SVC(gamma='auto', probability=True)\n",
    "    \n",
    "    elif model_name == 'GaussianNaiveBayes':\n",
    "        return GaussianNB()\n",
    "    \n",
    "    elif model_name == 'DecisionTree':\n",
    "        return DecisionTreeClassifier()\n",
    "    \n",
    "    else:\n",
    "        raise Exception('Error in model selection')"
   ]
  },
  {
   "cell_type": "code",
   "execution_count": 58,
   "metadata": {},
   "outputs": [
    {
     "data": {
      "application/vnd.jupyter.widget-view+json": {
       "model_id": "d49d0b64a0fe430bad65e3ec9b62f967",
       "version_major": 2,
       "version_minor": 0
      },
      "text/plain": [
       "IntText(value=0, description='Accuracy: ')"
      ]
     },
     "metadata": {},
     "output_type": "display_data"
    }
   ],
   "source": [
    "acc_wid = widgets.IntText(placeholder='Accuracy',\n",
    "                    description='Accuracy: ',\n",
    "                    disabled=False)\n",
    "\n",
    "acc_wid"
   ]
  },
  {
   "cell_type": "code",
   "execution_count": 59,
   "metadata": {},
   "outputs": [
    {
     "data": {
      "application/vnd.jupyter.widget-view+json": {
       "model_id": "b8a886e34f394c26bd35fd065c0a612d",
       "version_major": 2,
       "version_minor": 0
      },
      "text/plain": [
       "IntText(value=0, description='Loss: ')"
      ]
     },
     "metadata": {},
     "output_type": "display_data"
    }
   ],
   "source": [
    "loss_wid = widgets.IntText(placeholder='Loss',\n",
    "                    description='Loss: ',\n",
    "                    disabled=False)\n",
    "\n",
    "loss_wid"
   ]
  },
  {
   "cell_type": "code",
   "execution_count": 60,
   "metadata": {},
   "outputs": [],
   "source": [
    "def train_model(_=None):\n",
    "    # Initiation of the classifier.\n",
    "    model = select_model(model_wid.value)\n",
    "    \n",
    "    history = model.fit(X_train, y_train)\n",
    "    \n",
    "    X_test, y_test = test.iloc[:, :-1], test.iloc[:, -1]\n",
    "\n",
    "    prediction = model.predict(X_test)\n",
    "\n",
    "    # Getting loss and accuracy.\n",
    "    ac = round(accuracy_score(y_test, prediction), 2) * 100\n",
    "    ls = round(zero_one_loss(y_test, prediction), 2) * 100\n",
    "    \n",
    "    acc_wid.value, loss_wid.value = ac, ls\n",
    "    \n",
    "    # Saving the trained model.\n",
    "    pickle.dump(model, open(\"{}.sav\".format(model_wid.value), 'wb'))\n",
    "    \n",
    "    train_status.value = \"{} model is trained!\".format(model_wid.value)"
   ]
  },
  {
   "cell_type": "code",
   "execution_count": 61,
   "metadata": {},
   "outputs": [
    {
     "data": {
      "application/vnd.jupyter.widget-view+json": {
       "model_id": "303e8261e533445b9f02f9362c174881",
       "version_major": 2,
       "version_minor": 0
      },
      "text/plain": [
       "HBox(children=(Button(description='Train Model', style=ButtonStyle()), Text(value='', disabled=True, placehold…"
      ]
     },
     "metadata": {},
     "output_type": "display_data"
    }
   ],
   "source": [
    "train_button = widgets.Button(description='Train Model')\n",
    "train_button.on_click(train_model)\n",
    "\n",
    "train_status = widgets.Text(placeholder='Training Status',\n",
    "                            disabled=True)\n",
    "\n",
    "vb_train_and_status = widgets.HBox([train_button, train_status])\n",
    "vb_train_and_status"
   ]
  },
  {
   "cell_type": "markdown",
   "metadata": {},
   "source": [
    "## **Predict with Voila**"
   ]
  },
  {
   "cell_type": "code",
   "execution_count": 62,
   "metadata": {},
   "outputs": [],
   "source": [
    "import numpy as np\n",
    "from IPython.display import display\n",
    "from ipywidgets import widgets, ButtonStyle, VBox, HBox"
   ]
  },
  {
   "cell_type": "markdown",
   "metadata": {},
   "source": [
    "### **Set Values**"
   ]
  },
  {
   "cell_type": "code",
   "execution_count": 63,
   "metadata": {},
   "outputs": [
    {
     "data": {
      "application/vnd.jupyter.widget-view+json": {
       "model_id": "fc371d55bf3146238e523fe010f82427",
       "version_major": 2,
       "version_minor": 0
      },
      "text/plain": [
       "Text(value='', description='CustomerID: ', placeholder='CustomerID')"
      ]
     },
     "metadata": {},
     "output_type": "display_data"
    }
   ],
   "source": [
    "# CustomerID (ignored)\n",
    "customerId = widgets.Text(placeholder='CustomerID',\n",
    "                    description='CustomerID: ',\n",
    "                    disabled=False)\n",
    "\n",
    "customerId"
   ]
  },
  {
   "cell_type": "code",
   "execution_count": 64,
   "metadata": {},
   "outputs": [
    {
     "data": {
      "application/vnd.jupyter.widget-view+json": {
       "model_id": "0dcba7c1475f4691aeb880a6716df6db",
       "version_major": 2,
       "version_minor": 0
      },
      "text/plain": [
       "Text(value='', description='Surname: ', placeholder='Surname')"
      ]
     },
     "metadata": {},
     "output_type": "display_data"
    }
   ],
   "source": [
    "# Surname (ignored)\n",
    "Surname = widgets.Text(placeholder='Surname',\n",
    "                    description='Surname: ',\n",
    "                    disabled=False)\n",
    "\n",
    "Surname"
   ]
  },
  {
   "cell_type": "code",
   "execution_count": 65,
   "metadata": {},
   "outputs": [
    {
     "data": {
      "application/vnd.jupyter.widget-view+json": {
       "model_id": "83f1b74b96e04b088a5a95efd3d7193a",
       "version_major": 2,
       "version_minor": 0
      },
      "text/plain": [
       "IntSlider(value=500, description='Credit Score:', max=1000, style=SliderStyle(handle_color='blue'))"
      ]
     },
     "metadata": {},
     "output_type": "display_data"
    }
   ],
   "source": [
    "# CreditScore\n",
    "credit_score = widgets.IntSlider(\n",
    "    value=500,\n",
    "    min=0,\n",
    "    max=1000,\n",
    "    description='Credit Score:',\n",
    ")\n",
    "credit_score.style.handle_color = 'blue'\n",
    "\n",
    "credit_score"
   ]
  },
  {
   "cell_type": "code",
   "execution_count": 66,
   "metadata": {},
   "outputs": [
    {
     "data": {
      "application/vnd.jupyter.widget-view+json": {
       "model_id": "14b8fde5918245469e930c0daa5c496e",
       "version_major": 2,
       "version_minor": 0
      },
      "text/plain": [
       "IntSlider(value=40, description='Age:', max=120, style=SliderStyle(handle_color='blue'))"
      ]
     },
     "metadata": {},
     "output_type": "display_data"
    }
   ],
   "source": [
    "# Age\n",
    "age = widgets.IntSlider(\n",
    "    value=40,\n",
    "    min=0,\n",
    "    max=120,\n",
    "    description='Age:',\n",
    ")\n",
    "age.style.handle_color = 'blue'\n",
    "\n",
    "age"
   ]
  },
  {
   "cell_type": "code",
   "execution_count": 67,
   "metadata": {},
   "outputs": [
    {
     "data": {
      "application/vnd.jupyter.widget-view+json": {
       "model_id": "f60059bfd60e4f2b99834f4dd64aacb4",
       "version_major": 2,
       "version_minor": 0
      },
      "text/plain": [
       "IntSlider(value=3, description='Tenure:', max=10, style=SliderStyle(handle_color='blue'))"
      ]
     },
     "metadata": {},
     "output_type": "display_data"
    }
   ],
   "source": [
    "# Tenure\n",
    "tenure = widgets.IntSlider(\n",
    "    value=3,\n",
    "    min=0,\n",
    "    max=10,\n",
    "    step=1,\n",
    "    description='Tenure:',\n",
    ")\n",
    "tenure.style.handle_color = 'blue'\n",
    "\n",
    "tenure"
   ]
  },
  {
   "cell_type": "code",
   "execution_count": 68,
   "metadata": {},
   "outputs": [
    {
     "data": {
      "application/vnd.jupyter.widget-view+json": {
       "model_id": "44c379d35c1142cca330577266bcaa04",
       "version_major": 2,
       "version_minor": 0
      },
      "text/plain": [
       "FloatSlider(value=50000.0, description='Balance:', max=300000.0, style=SliderStyle(handle_color='blue'))"
      ]
     },
     "metadata": {},
     "output_type": "display_data"
    }
   ],
   "source": [
    "# Balance\n",
    "balance = widgets.FloatSlider(\n",
    "    value=50000,\n",
    "    min=0,\n",
    "    max=300000.0,\n",
    "    step=0.1,\n",
    "    description='Balance:',\n",
    ")\n",
    "balance.style.handle_color = 'blue'\n",
    "\n",
    "balance"
   ]
  },
  {
   "cell_type": "code",
   "execution_count": 69,
   "metadata": {},
   "outputs": [
    {
     "data": {
      "application/vnd.jupyter.widget-view+json": {
       "model_id": "3f132e49ac744625bb66658eb89e1935",
       "version_major": 2,
       "version_minor": 0
      },
      "text/plain": [
       "IntSlider(value=3, description='NumOfProducts:', max=5, min=1, style=SliderStyle(handle_color='blue'))"
      ]
     },
     "metadata": {},
     "output_type": "display_data"
    }
   ],
   "source": [
    "# NumOfProducts\n",
    "num_of_products = widgets.IntSlider(\n",
    "    value=3,\n",
    "    min=1,\n",
    "    max=5,\n",
    "    step=1,\n",
    "    description='NumOfProducts:',\n",
    ")\n",
    "num_of_products.style.handle_color = 'blue'\n",
    "\n",
    "num_of_products"
   ]
  },
  {
   "cell_type": "code",
   "execution_count": 70,
   "metadata": {},
   "outputs": [
    {
     "data": {
      "application/vnd.jupyter.widget-view+json": {
       "model_id": "2dddc29b75af4a41b6a131fc42295722",
       "version_major": 2,
       "version_minor": 0
      },
      "text/plain": [
       "FloatSlider(value=50000.0, description='EstimatedSalary:', max=300000.0, style=SliderStyle(handle_color='blue'…"
      ]
     },
     "metadata": {},
     "output_type": "display_data"
    }
   ],
   "source": [
    "# EstimatedSalary\n",
    "estimated_salary = widgets.FloatSlider(\n",
    "    value=50000,\n",
    "    min=0,\n",
    "    max=300000.0,\n",
    "    step=0.1,\n",
    "    description='EstimatedSalary:',\n",
    ")\n",
    "estimated_salary.style.handle_color = 'blue'\n",
    "\n",
    "estimated_salary"
   ]
  },
  {
   "cell_type": "code",
   "execution_count": 71,
   "metadata": {},
   "outputs": [
    {
     "data": {
      "application/vnd.jupyter.widget-view+json": {
       "model_id": "a234ebf0d00a4b6c886c3a9cc9a93275",
       "version_major": 2,
       "version_minor": 0
      },
      "text/plain": [
       "Dropdown(description='Geography:', index=1, options=('France', 'Germany', 'Spain'), value='Germany')"
      ]
     },
     "metadata": {},
     "output_type": "display_data"
    }
   ],
   "source": [
    "# Geography\n",
    "geography = widgets.Dropdown(\n",
    "    options=['France', 'Germany', 'Spain'],\n",
    "    value='Germany',\n",
    "    description='Geography:',\n",
    ")\n",
    "\n",
    "geography"
   ]
  },
  {
   "cell_type": "code",
   "execution_count": 72,
   "metadata": {},
   "outputs": [
    {
     "data": {
      "application/vnd.jupyter.widget-view+json": {
       "model_id": "053be16f6d434fe4a2927fa46259667f",
       "version_major": 2,
       "version_minor": 0
      },
      "text/plain": [
       "ToggleButtons(description='Has Card:', options=('True', 'False'), value='True')"
      ]
     },
     "metadata": {},
     "output_type": "display_data"
    }
   ],
   "source": [
    "# HasCard\n",
    "has_cr_card = widgets.ToggleButtons(\n",
    "    options=['True', 'False'],\n",
    "    description='Has Card:',\n",
    ")\n",
    "\n",
    "has_cr_card"
   ]
  },
  {
   "cell_type": "code",
   "execution_count": 73,
   "metadata": {},
   "outputs": [
    {
     "data": {
      "application/vnd.jupyter.widget-view+json": {
       "model_id": "d9f531422f2f41ed9cd07e7490b32e5b",
       "version_major": 2,
       "version_minor": 0
      },
      "text/plain": [
       "ToggleButtons(description='Gender:', options=('Female', 'Male'), value='Female')"
      ]
     },
     "metadata": {},
     "output_type": "display_data"
    }
   ],
   "source": [
    "# Gender\n",
    "gender = widgets.ToggleButtons(\n",
    "    options=['Female', 'Male'],\n",
    "    description='Gender:',\n",
    ")\n",
    "credit_score.style.handle_color = 'blue'\n",
    "\n",
    "gender"
   ]
  },
  {
   "cell_type": "code",
   "execution_count": 74,
   "metadata": {},
   "outputs": [],
   "source": [
    "# Process the results\n",
    "def process_values(credit_score=credit_score, \n",
    "                   age=age, \n",
    "                   tenure=tenure, \n",
    "                   balance=balance, \n",
    "                   num_of_products=num_of_products,\n",
    "                   has_cr_card=has_cr_card, \n",
    "                   estimated_salary=estimated_salary, \n",
    "                   geography=geography, \n",
    "                   gender=gender):\n",
    "    \n",
    "    CreditScore = credit_score.value / max_values_dict['CreditScore']\n",
    "    Age = age.value / max_values_dict['Age']\n",
    "    Tenure = tenure.value\n",
    "    Balance = balance.value / max_values_dict['Balance']\n",
    "    NumOfProducts = num_of_products.value\n",
    "    HasCrCard = 0 if has_cr_card.value == 'False' else 1\n",
    "    EstimatedSalary = estimated_salary.value / max_values_dict['EstimatedSalary']\n",
    "    Geography_Spain = 1 if geography.value == 'Spain' else 0\n",
    "    Geography_Germany = 1 if geography.value == 'Germany' else 0\n",
    "    Geography_France = 1 if geography.value == 'France' else 0\n",
    "    Gender_Male = 1 if gender.value == 'Male' else 0\n",
    "    Gender_Female = 1 if gender.value == 'Female' else 0\n",
    "\n",
    "    to_predict = [CreditScore, Age, Tenure, Balance, NumOfProducts, HasCrCard, EstimatedSalary, \n",
    "                  Geography_France, Geography_Germany, Geography_Spain, Gender_Female, Gender_Male]\n",
    "\n",
    "    to_predict = np.array(to_predict).reshape(1, -1)\n",
    "    \n",
    "    return to_predict"
   ]
  },
  {
   "cell_type": "markdown",
   "metadata": {},
   "source": [
    "### **Prediction and Explanation**"
   ]
  },
  {
   "cell_type": "code",
   "execution_count": 75,
   "metadata": {},
   "outputs": [],
   "source": [
    "prediction_wid = widgets.Text(placeholder='Prediction',\n",
    "                    description='Prediction: ',\n",
    "                    disabled=False)\n",
    "\n",
    "probability_wid = widgets.FloatText(placeholder='Probability',\n",
    "                    description='Prboability: ',\n",
    "                    disabled=False)\n",
    "\n",
    "vb_pred_and_prob = VBox([prediction_wid, probability_wid])"
   ]
  },
  {
   "cell_type": "code",
   "execution_count": 76,
   "metadata": {
    "scrolled": true
   },
   "outputs": [],
   "source": [
    "# Loading the trained model.\n",
    "try:\n",
    "    model = pickle.load(open(\"{}.sav\".format(model_wid.value), 'rb'))\n",
    "except Exception:\n",
    "    model = train_model(model_wid.value)\n",
    "    \n",
    "def show_prediction(_=None):\n",
    "    to_predict = process_values()\n",
    "    prob = model.predict_proba(to_predict)[0]\n",
    "    churn_prob, not_churn_prob = prob[0], prob[1]\n",
    "    prediction = \"Not Churn\" if not_churn_prob > churn_prob else \"Churn\"\n",
    "\n",
    "    prediction_wid.value = prediction\n",
    "    probability_wid.value = not_churn_prob if not_churn_prob > churn_prob else churn_prob\n",
    "    return np.array(to_predict).reshape(-1,)"
   ]
  },
  {
   "cell_type": "code",
   "execution_count": 77,
   "metadata": {},
   "outputs": [],
   "source": [
    "import lime\n",
    "import ipywidgets as widgets\n",
    "import matplotlib.pyplot as plt\n",
    "from IPython.display import clear_output\n",
    "from lime.lime_tabular import LimeTabularExplainer  # <--- Since we're using DataFrames"
   ]
  },
  {
   "cell_type": "code",
   "execution_count": 78,
   "metadata": {},
   "outputs": [],
   "source": [
    "def show_explanation(_=None):\n",
    "    explainer = LimeTabularExplainer(X_train.values, \n",
    "                                       feature_names=feature_names, \n",
    "                                       class_names=[0,1])\n",
    "    exp = explainer.explain_instance(data_row=to_predict, \n",
    "                                        predict_fn=model.predict_proba,\n",
    "                                        num_features=10)\n",
    "    fig = exp.as_pyplot_figure(label=1).savefig(\"1.png\", bbox_inches=\"tight\")\n",
    "    file1 = open(\"1.png\", \"rb\")\n",
    "    image1 = file1.read()\n",
    "    exp_wid1.value = image1"
   ]
  },
  {
   "cell_type": "code",
   "execution_count": 79,
   "metadata": {},
   "outputs": [],
   "source": [
    "file = open(\"white.png\", \"rb\")\n",
    "image = file.read()\n",
    "exp_wid1 = widgets.Image(\n",
    "    value=image,\n",
    "    format='png',\n",
    "    width=350,\n",
    "    height=200,\n",
    ")\n",
    "\n",
    "hb_pred_prob_exp = HBox([vb_pred_and_prob, exp_wid1])"
   ]
  },
  {
   "cell_type": "code",
   "execution_count": 80,
   "metadata": {},
   "outputs": [
    {
     "data": {
      "application/vnd.jupyter.widget-view+json": {
       "model_id": "c788c98598f5470dadcb794d81a82647",
       "version_major": 2,
       "version_minor": 0
      },
      "text/plain": [
       "HBox(children=(Button(description='Predict', style=ButtonStyle()), HBox(children=(VBox(children=(Text(value='N…"
      ]
     },
     "metadata": {},
     "output_type": "display_data"
    }
   ],
   "source": [
    "predBtn = widgets.Button(description='Predict')\n",
    "\n",
    "predBtn.on_click(show_prediction)\n",
    "predBtn.on_click(show_explanation)\n",
    "to_predict = show_prediction()\n",
    "\n",
    "final_vbox = HBox([predBtn, hb_pred_prob_exp])\n",
    "\n",
    "final_vbox"
   ]
  }
 ],
 "metadata": {
  "celltoolbar": "Edit Metadata",
  "hide_input": false,
  "kernelspec": {
   "display_name": "Python 3",
   "language": "python",
   "name": "python3"
  },
  "language_info": {
   "codemirror_mode": {
    "name": "ipython",
    "version": 3
   },
   "file_extension": ".py",
   "mimetype": "text/x-python",
   "name": "python",
   "nbconvert_exporter": "python",
   "pygments_lexer": "ipython3",
   "version": "3.7.4"
  },
  "toc": {
   "base_numbering": 1,
   "nav_menu": {},
   "number_sections": true,
   "sideBar": true,
   "skip_h1_title": false,
   "title_cell": "Table of Contents",
   "title_sidebar": "Contents",
   "toc_cell": false,
   "toc_position": {},
   "toc_section_display": true,
   "toc_window_display": false
  }
 },
 "nbformat": 4,
 "nbformat_minor": 4
}
